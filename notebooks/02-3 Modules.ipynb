{
 "cells": [
  {
   "cell_type": "markdown",
   "metadata": {},
   "source": [
    "# Modules\n",
    "\n",
    "1. **Modules are .py files**\n",
    "2. **Packages are folders with `__init__.py` file in it**\n",
    "\n",
    "Modules are actually just files with a `.py` ending. So if you write \n",
    "```python\n",
    "import string\n",
    "```\n",
    "You actually just fetch the `string.py` file.\n",
    "\n",
    "#### Modular code\n",
    "One advantage of functions is the way they separate blocks of code from your main program. By using descriptive names for your functions, your main program will be much easier to follow. You can go a step further by storing your functions in a separate file called a module and then importing that module into your main program. An import statement tells Python to make the code in a module available in the currently running program file.\n",
    "\n",
    "Storing your functions in a separate file allows you to hide the details of your program’s code and focus on its higher-level logic. It also allows you to reuse functions in many different programs. When you store your functions in separate files, you can share those files with other programmers without having to share your entire program. Knowing how to `import` functions also allows you to use libraries of functions that other programmers have written.\n",
    "\n",
    "#### Importing an Entire Module\n",
    "\n",
    "To start importing functions, we first need to create a module. A module is a file ending in `.py` that contains the code you want to import into your program.\n",
    "\n",
    "To call a function from an imported module, enter the name of the module you imported followed by the name of the function separated by a dot.\n",
    "\n",
    "In the following examples, we import entire modules, which makes every function from the module available in your program."
   ]
  },
  {
   "cell_type": "code",
   "execution_count": 18,
   "metadata": {},
   "outputs": [],
   "source": [
    "import os\n",
    "\n",
    "# Get help on a module\n",
    "os?\n",
    "os.makedirs?\n",
    "\n",
    "# create a new directory\n",
    "#os.makedirs('./todelete_dir')"
   ]
  },
  {
   "cell_type": "markdown",
   "metadata": {},
   "source": [
    "Let's have a look into the `os` module.\n",
    "\n",
    "On the command line:\n",
    "\n",
    "  * `which python` tells you where your Python is installed, it says something like `/path/to/anaconda3/bin/python`\n",
    "  * open with your editor the file `/path/to/lib/python3.7/os.py`\n",
    "  * navigate to line 196\n",
    "  \n",
    "Inspect what is going on in this function."
   ]
  },
  {
   "cell_type": "code",
   "execution_count": 2,
   "metadata": {},
   "outputs": [
    {
     "name": "stdout",
     "output_type": "stream",
     "text": [
      "0 6\n",
      "1 5\n",
      "2 4\n",
      "3 3\n",
      "4 2\n",
      "5 2\n",
      "6 5\n",
      "7 1\n",
      "8 1\n",
      "9 1\n"
     ]
    }
   ],
   "source": [
    "import random\n",
    "\n",
    "for idx in range(0,10):\n",
    "    dice = random.choice([1, 2, 3, 4, 5, 6])\n",
    "    print(idx, dice)"
   ]
  },
  {
   "cell_type": "markdown",
   "metadata": {},
   "source": [
    "### Module Aliases\n",
    "\n",
    "You can also provide an alias for a module name. Giving a module a short alias.\n",
    "\n",
    "Calling the functions via a module alias is not only more concise it also redirects your attention from the module name and allows you to focus on the descriptive names of the functions. The function names, which clearly tell you what each function does, are more important to the readability of your code than using the full module name.\n",
    "\n",
    "The general syntax for this approach is:\n",
    "\n",
    "```python\n",
    "import module_name as mn\n",
    "```"
   ]
  },
  {
   "cell_type": "code",
   "execution_count": 3,
   "metadata": {},
   "outputs": [
    {
     "data": {
      "text/plain": [
       "2"
      ]
     },
     "execution_count": 3,
     "metadata": {},
     "output_type": "execute_result"
    }
   ],
   "source": [
    "import random as r\n",
    "\n",
    "r.choice([1, 2, 3, 4, 5, 6])"
   ]
  },
  {
   "cell_type": "markdown",
   "metadata": {},
   "source": [
    "### Importing All Functions in a Module\n",
    "\n",
    "You can tell Python to import every function in a module by using the asterisk (`*`) operator.\n",
    "   \n",
    "The asterisk in the `import` statement tells Python to copy every function from the module into this program file. Because every function is imported, you can call each function by name without using the dot notation. However, it is best not to use this approach when you are working with larger modules that you did not write yourself: if the module has a function name that matches an existing name in your project, you can get some unexpected results. Python may see several functions or variables with the same name, and instead of importing all the functions separately, it will overwrite the functions with the ones imported after.\n",
    "\n",
    "The best approach is to import the function or functions you want, or import the entire module and use the dot notation. This leads to clear code that is easy to read and understand. I include this section so you will recognize `import` statements like the following when you see them in other people’s code:\n",
    "\n",
    "```python\n",
    "from module_name import *\n",
    "```"
   ]
  },
  {
   "cell_type": "code",
   "execution_count": 19,
   "metadata": {},
   "outputs": [
    {
     "name": "stdout",
     "output_type": "stream",
     "text": [
      "3.141592653589793\n",
      "-1.0\n"
     ]
    }
   ],
   "source": [
    "from math import *\n",
    "#import math\n",
    "print(pi)\n",
    "print(cos(pi))"
   ]
  },
  {
   "cell_type": "markdown",
   "metadata": {},
   "source": [
    "## Importing Specific Functions\n",
    "\n",
    "You can also import a specific function from a module. Here’s the general syntax for this approach:\n",
    "\n",
    "```python\n",
    "from module_name import function_name\n",
    "```\n",
    "\n",
    "You can import as many functions as you want from a module by separating each function’s name with a comma:\n",
    "\n",
    "```python\n",
    "from module_name import function_0, function_1, function_2\n",
    "```"
   ]
  },
  {
   "cell_type": "code",
   "execution_count": 5,
   "metadata": {},
   "outputs": [
    {
     "data": {
      "text/plain": [
       "6"
      ]
     },
     "execution_count": 5,
     "metadata": {},
     "output_type": "execute_result"
    }
   ],
   "source": [
    "from random import choice\n",
    "\n",
    "choice([1, 2, 3, 4, 5, 6])"
   ]
  },
  {
   "cell_type": "code",
   "execution_count": 20,
   "metadata": {},
   "outputs": [
    {
     "name": "stdout",
     "output_type": "stream",
     "text": [
      "/opt/conda/lib/python3.7/lib-dynload/math.cpython-37m-x86_64-linux-gnu.so\n"
     ]
    }
   ],
   "source": [
    "import math\n",
    "print(math.__file__)"
   ]
  },
  {
   "cell_type": "code",
   "execution_count": 6,
   "metadata": {},
   "outputs": [
    {
     "data": {
      "text/plain": [
       "4"
      ]
     },
     "execution_count": 6,
     "metadata": {},
     "output_type": "execute_result"
    }
   ],
   "source": [
    "from random import choice, randrange\n",
    "\n",
    "end = choice([10, 20, 30, 40, 50, 60])\n",
    "# Choose a random item from range(start, stop[, step]).\n",
    "randrange(1, end)"
   ]
  },
  {
   "cell_type": "markdown",
   "metadata": {},
   "source": [
    "With this syntax, you do not need to use the dot notation when you call a function. Because we have explicitly imported the function in the `import` statement, we can call it by name when we use the function.\n",
    "\n",
    "However, using the full name makes for more readable code, so it is better to use the normal form of the import statement."
   ]
  },
  {
   "cell_type": "markdown",
   "metadata": {},
   "source": [
    "### Function Aliases\n",
    "\n",
    "If the name of a function you are importing might conflict with an existing name in your program or if the function name is long, you can use a short, unique alias —an alternate name similar to a nickname for the function. You will give the function this special nickname when you import the function.\n",
    "\n",
    "The general syntax for providing an alias is:\n",
    "\n",
    "```python \n",
    "from module_name import function_name as fn\n",
    "```"
   ]
  },
  {
   "cell_type": "code",
   "execution_count": 7,
   "metadata": {},
   "outputs": [
    {
     "data": {
      "text/plain": [
       "14"
      ]
     },
     "execution_count": 7,
     "metadata": {},
     "output_type": "execute_result"
    }
   ],
   "source": [
    "from random import choice as ch\n",
    "from random import randrange as rr\n",
    "\n",
    "end = ch([10, 20, 30, 40, 50, 60])\n",
    "rr(1, end)"
   ]
  },
  {
   "cell_type": "code",
   "execution_count": 14,
   "metadata": {},
   "outputs": [
    {
     "name": "stdout",
     "output_type": "stream",
     "text": [
      "hello from module\n"
     ]
    }
   ],
   "source": [
    "from modules.sub_folder import my_test\n",
    "my_test.print_string('hello from module')"
   ]
  },
  {
   "cell_type": "code",
   "execution_count": 9,
   "metadata": {},
   "outputs": [],
   "source": [
    "# This is only necessary in the notebook, when you want to reload \n",
    "# modules on which you are working\n",
    "%load_ext autoreload"
   ]
  },
  {
   "cell_type": "code",
   "execution_count": 10,
   "metadata": {},
   "outputs": [
    {
     "data": {
      "text/plain": [
       "'./2701-0.txt'"
      ]
     },
     "execution_count": 10,
     "metadata": {},
     "output_type": "execute_result"
    }
   ],
   "source": [
    "%autoreload 2\n",
    "\n",
    "from modules import webget\n",
    "\n",
    "moby_dick_url = 'http://www.gutenberg.org/files/2701/2701-0.txt'\n",
    "bones_in_london_url = 'http://www.gutenberg.org/cache/epub/27525/pg27525.txt'\n",
    "\n",
    "webget.download(moby_dick_url)"
   ]
  },
  {
   "cell_type": "code",
   "execution_count": 11,
   "metadata": {},
   "outputs": [
    {
     "name": "stdout",
     "output_type": "stream",
     "text": [
      "Is URL: http   www.dr.dk   /tv\n"
     ]
    }
   ],
   "source": [
    "from urllib.parse import urlparse\n",
    "\n",
    "result = urlparse('oioioi')\n",
    "result = urlparse('http://www.dr.dk/tv')\n",
    "if result.scheme and result.netloc and result.path:\n",
    "    print('Is URL:',result.scheme,' ',result.netloc,' ',result.path)\n",
    "else:\n",
    "    print('URMPF')"
   ]
  },
  {
   "cell_type": "markdown",
   "metadata": {},
   "source": [
    "## Let's make our own module!\n",
    "\n",
    "* Create a new file `global_warming.py`\n",
    "* In the file, put these four lines of code:\n",
    "```python\n",
    "def global_warming_status():\n",
    "      return 'The globe is heating up!'\n",
    "status = global_warming_status()\n",
    "print(status)\n",
    "```\n",
    "\n",
    "* What is the code doing?\n",
    "#### Test\n",
    "* Save the file and run it via the terminal: `python global_warming.py`\n"
   ]
  },
  {
   "cell_type": "code",
   "execution_count": 8,
   "metadata": {},
   "outputs": [
    {
     "name": "stdout",
     "output_type": "stream",
     "text": [
      "my_notebooks.my_modules.global_warming\n"
     ]
    },
    {
     "data": {
      "text/plain": [
       "'The globe is heating up!'"
      ]
     },
     "execution_count": 8,
     "metadata": {},
     "output_type": "execute_result"
    }
   ],
   "source": [
    "from my_notebooks.my_modules import global_warming as gw\n",
    "print(gw.__name__)\n",
    "gw.global_warming_status()"
   ]
  },
  {
   "cell_type": "code",
   "execution_count": 5,
   "metadata": {},
   "outputs": [
    {
     "name": "stdout",
     "output_type": "stream",
     "text": [
      "__file__:/home/jovyan/modules/import_demo/sub2/mod2.py\n",
      "__name__:modules.import_demo.sub2.mod2\n",
      "__package__:modules.import_demo.sub2\n",
      "\n",
      "besked fra mod2\n"
     ]
    }
   ],
   "source": [
    "from modules.import_demo.sub2 import mod2\n",
    "mod2.print_msg(\"besked fra mod2\")"
   ]
  },
  {
   "cell_type": "markdown",
   "metadata": {},
   "source": [
    "## main method\n",
    "- In python files all of the code that is at indentation level 0 gets executed. \n",
    "- Functions and classes that are defined are, well, defined, but none of their code gets run. \n",
    "- Unlike other languages, there's no main() function that gets run automatically \n",
    "- ***the main() function is implicitly all the code at the top level***.\n",
    "\n",
    "- In this case, the top-level code is an if block.  \n",
    "- __name__ is a built-in variable which evaluates to the name of the current module. \n",
    "- However, if a module is being run directly (as in global_warming.py above), then __name__ instead is set to the string \"__main__\". \n",
    "- Thus, you can test whether your script is being run directly or being imported by something else by testing\n",
    "    - `if __name__ == \"__main__\":`\n",
    "    \n",
    "- If your script is being imported into another module, its various function and class definitions will be imported and its top-level code will be executed, but the code in the then-body of the if clause above won't get run as the condition is not met. \n",
    "- As a basic example, consider the following two scripts:"
   ]
  },
  {
   "cell_type": "markdown",
   "metadata": {},
   "source": [
    "#### First file: one.py\n",
    "```python\n",
    "# file one.py\n",
    "def func():\n",
    "    print(\"func() in one.py\")\n",
    "\n",
    "print(\"top-level in one.py\")\n",
    "\n",
    "if __name__ == \"__main__\":\n",
    "    print(\"one.py is being run directly\")\n",
    "else:\n",
    "    print(\"one.py is being imported into another module\")\n",
    "```\n",
    "#### Second file: two.py\n",
    "is importing one.py\n",
    "\n",
    "```python\n",
    "# file two.py\n",
    "import one\n",
    "\n",
    "print(\"top-level in two.py\")\n",
    "one.func()\n",
    "\n",
    "if __name__ == \"__main__\":\n",
    "    print(\"two.py is being run directly\")\n",
    "else:\n",
    "    print(\"two.py is being imported into another module\")\n",
    "```\n",
    "\n",
    "Running file: two.py:"
   ]
  },
  {
   "cell_type": "code",
   "execution_count": 6,
   "metadata": {},
   "outputs": [
    {
     "name": "stdout",
     "output_type": "stream",
     "text": [
      "top-level in one.py\n",
      "one.py is being imported into another module\n",
      "top-level in two.py\n",
      "func() in one.py\n",
      "two.py is being run directly\n"
     ]
    }
   ],
   "source": [
    "!python modules/two.py"
   ]
  },
  {
   "cell_type": "markdown",
   "metadata": {},
   "source": [
    "## Import function from sub folder\n",
    "The folder must have a file `__init__.py` (can just be an empty file) for python to accept it as a package.  \n",
    "The folder name and file name must adhere to python naming rules (start with letter and use only letters, number and _)\n",
    "To import file from a subfolder do this:\n",
    "1. in the subfolder create a file: __init__.py\n",
    "2. in you code: `from folder_name.file_name import func_name`"
   ]
  },
  {
   "cell_type": "markdown",
   "metadata": {},
   "source": [
    "## import python module from sibling folder\n",
    "#### reference: https://needone.app/python-importing-explained/\n",
    "1. create a top root folder with a `__init__.py` file (can be empty)\n",
    "2. in each sub folder with .py files create `__init__.py` files\n",
    "3. when using import statements use Absolute Importing\n",
    "  - `from rootfolder.subfolder import pyfile_module`\n",
    "4. run python with -m flag from terminal `python -m rootfolder.subfolder.file` file is without .py e.g running the mod1 from this project `python -m import_demo.sub1.mod1`\n",
    "  - if run like this: `python import_demo/sub1/mod1.py` we get a ModuleNotFoundError: No module named 'import_demo'. This is because mod1.py is run with __name__ == '__main__' and __package__ == None, so python has no way of knowing how to find mod2 that is attempted to be imported from mod1."
   ]
  },
  {
   "cell_type": "markdown",
   "metadata": {},
   "source": [
    "## sibling module import \n",
    "#### look in the [modules/import_demo/sub1/sibling_import.ipynb](modules/import_demo/sub1/sibling_import.ipynb)"
   ]
  },
  {
   "cell_type": "markdown",
   "metadata": {},
   "source": [
    "## reload module\n",
    "When we work in notebooks we often need to make changes to a module and then reload it. One way to do this is by resarting the notebook kernel (forcing it to load everything a new). Another and easier way is to use the `imp` module's `reload()` method"
   ]
  },
  {
   "cell_type": "code",
   "execution_count": 11,
   "metadata": {},
   "outputs": [],
   "source": [
    "!echo \"my_var='Original message'\" > modules/reload_demo.py"
   ]
  },
  {
   "cell_type": "code",
   "execution_count": 12,
   "metadata": {},
   "outputs": [
    {
     "name": "stdout",
     "output_type": "stream",
     "text": [
      "my_var='Original message'\n"
     ]
    }
   ],
   "source": [
    "!cat modules/reload_demo.py"
   ]
  },
  {
   "cell_type": "code",
   "execution_count": 13,
   "metadata": {},
   "outputs": [
    {
     "name": "stdout",
     "output_type": "stream",
     "text": [
      "Original message\n"
     ]
    }
   ],
   "source": [
    "from modules import reload_demo\n",
    "print(reload_demo.my_var)"
   ]
  },
  {
   "cell_type": "code",
   "execution_count": 14,
   "metadata": {},
   "outputs": [],
   "source": [
    "!echo \"my_var='Changed message'\" > modules/reload_demo.py"
   ]
  },
  {
   "cell_type": "code",
   "execution_count": 19,
   "metadata": {},
   "outputs": [
    {
     "name": "stdout",
     "output_type": "stream",
     "text": [
      "Original message\n",
      "Changed message\n"
     ]
    }
   ],
   "source": [
    "print(reload_demo.my_var)\n",
    "import imp, modules\n",
    "imp.reload(modules.reload_demo)\n",
    "print(reload_demo.my_var)"
   ]
  },
  {
   "cell_type": "markdown",
   "metadata": {},
   "source": [
    "# Exercises\n",
    "\n",
    "![](https://media.giphy.com/media/13rQ7rrTrvZXlm/giphy.gif)\n",
    "\n",
    "  1. Create a small program with 2 modules. First module contains a list of names. Second module has a function that can take a list of names and print each name with the word \"hello\" in front. Let the second module import the first module and use the list of names from it. Run the second module from a notebook cell.\n",
    "  \n",
    "  2. Write a module `webget.py` that exposes a function to download a file from the web in case it does not exist locally already. The function shall have the following signature `download(url, to=None)` where the keyword argument `to` specifies where to save a file locally and with which name. If `to == None` then the file shall be saved in the current working directory `./` with the same name as it has at its origin. For example, calling your program as in the following\n",
    "\n",
    "  ```python\n",
    "  import webget\n",
    "\n",
    "  url = 'http://data.kk.dk/dataset/76ecf368-bf2d-46a2-bcf8-adaf37662528/resource/9286af17-f74e-46c9-a428-9fb707542189/download/befkbhalderstatkode.csv'\n",
    "  webget.download(url)\n",
    "  ```\n",
    "\n",
    "  will download the remote file to `./befkbhalderstatkode.csv`.\n",
    "\n",
    "  Likely, you will need functions from the standard library modules `os`, and `urllib`. For example, read the doc strings for the following functions and implement the given function stub with help of them.\n",
    "\n",
    "    * `os.path.isfile?`\n",
    "    * `os.path.join?`\n",
    "    * `os.path.basename?`\n",
    "    * `urllib.parse?` \n",
    "    * `urllib.request.urlretrieve?`\n",
    "  \n",
    "  \n",
    "  ```python\n",
    "  import os\n",
    "  import urllib.request as req\n",
    "  from urllib.parse import urlparse\n",
    "  \n",
    "  \n",
    "  def download(url, to=None):\n",
    "      \"\"\"Download a remote file specified by a URL to a \n",
    "      local directory.\n",
    "  \n",
    "      :param url: str\n",
    "          URL pointing to a remote file.\n",
    "          \n",
    "      :param to: str\n",
    "          Local path, absolute or relative, with a filename \n",
    "          to the file storing the contents of the remote file.\n",
    "      \"\"\"\n",
    "    \n",
    "      # TODO: Implement me!\n",
    "      pass\n",
    "  ```\n",
    "  "
   ]
  },
  {
   "cell_type": "markdown",
   "metadata": {},
   "source": [
    "## Exercise continued\n",
    "#### Import from a sibling folder\n",
    "1. Create a folder called my_libs and put your webget.py file inside.\n",
    "2. Create another folder next to my_libs with a file: test.py\n",
    "3. Let test.py import webget and run the download function to get some data from the net"
   ]
  }
 ],
 "metadata": {
  "kernelspec": {
   "display_name": "Python 3 (ipykernel)",
   "language": "python",
   "name": "python3"
  },
  "language_info": {
   "codemirror_mode": {
    "name": "ipython",
    "version": 3
   },
   "file_extension": ".py",
   "mimetype": "text/x-python",
   "name": "python",
   "nbconvert_exporter": "python",
   "pygments_lexer": "ipython3",
   "version": "3.10.5"
  },
  "varInspector": {
   "cols": {
    "lenName": 16,
    "lenType": 16,
    "lenVar": 40
   },
   "kernels_config": {
    "python": {
     "delete_cmd_postfix": "",
     "delete_cmd_prefix": "del ",
     "library": "var_list.py",
     "varRefreshCmd": "print(var_dic_list())"
    },
    "r": {
     "delete_cmd_postfix": ") ",
     "delete_cmd_prefix": "rm(",
     "library": "var_list.r",
     "varRefreshCmd": "cat(var_dic_list()) "
    }
   },
   "types_to_exclude": [
    "module",
    "function",
    "builtin_function_or_method",
    "instance",
    "_Feature"
   ],
   "window_display": false
  }
 },
 "nbformat": 4,
 "nbformat_minor": 4
}
