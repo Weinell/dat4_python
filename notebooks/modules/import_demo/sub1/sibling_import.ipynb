{
 "cells": [
  {
   "cell_type": "code",
   "execution_count": null,
   "metadata": {},
   "outputs": [],
   "source": [
    "# Demo on how to import from sibling folder\n",
    "from sub2 import mod2\n",
    "mod2.print_msg(\"sub2 er en sibling\")"
   ]
  },
  {
   "cell_type": "code",
   "execution_count": null,
   "metadata": {
    "scrolled": true
   },
   "outputs": [],
   "source": [
    "print(__name__, __package__)"
   ]
  },
  {
   "cell_type": "code",
   "execution_count": null,
   "metadata": {},
   "outputs": [],
   "source": [
    "# Append path to sibling module to the sys.path to get access to it from a notebook\n",
    "import sys\n",
    "print(sys.path)\n",
    "sys.path.append('/home/jovyan/modules/import_demo/sub2')\n",
    "print()\n",
    "print(sys.path)"
   ]
  },
  {
   "cell_type": "code",
   "execution_count": 6,
   "metadata": {},
   "outputs": [
    {
     "name": "stdout",
     "output_type": "stream",
     "text": [
      "CURRENT DIR: /home/jovyan/modules/import_demo/sub1\n",
      "PARENT DIR: /home/jovyan/modules/import_demo\n",
      "SIBLING DIR: /home/jovyan/modules/import_demo/sub2\n",
      "__file__:/home/jovyan/modules/import_demo/sub2/mod2.py\n",
      "__name__:mod2\n",
      "__package__:\n",
      "\n"
     ]
    }
   ],
   "source": [
    "# More portable way\n",
    "# to test this: restart the kernel and run this cell (if not restarted the mod2 module will already be imported and will not be run again)\n",
    "import sys, os\n",
    "\n",
    "current_dir = sys.path[0]\n",
    "parent_dir = os.path.dirname(current_dir) # this is sub1\n",
    "sub2_path = os.path.join(parent_dir, 'sub2')\n",
    "print(f'CURRENT DIR: {current_dir}\\nPARENT DIR: {parent_dir}\\nSIBLING DIR: {sub2_path}')\n",
    "sys.path.append(sub2_path) # add the sibling folder to the python sys path\n",
    "\n",
    "import mod2"
   ]
  },
  {
   "cell_type": "code",
   "execution_count": 10,
   "metadata": {},
   "outputs": [
    {
     "name": "stdout",
     "output_type": "stream",
     "text": [
      "DEMO\n"
     ]
    }
   ],
   "source": [
    "import mod2\n",
    "mod2.print_msg('DEMO')"
   ]
  },
  {
   "cell_type": "code",
   "execution_count": 8,
   "metadata": {},
   "outputs": [],
   "source": [
    "sys.path.remove('/home/jovyan/modules/import_demo/sub1/sub2')\n"
   ]
  },
  {
   "cell_type": "code",
   "execution_count": 1,
   "metadata": {},
   "outputs": [
    {
     "name": "stdout",
     "output_type": "stream",
     "text": [
      "['/home/jovyan/modules/import_demo/sub1', '/opt/conda/lib/python37.zip', '/opt/conda/lib/python3.7', '/opt/conda/lib/python3.7/lib-dynload', '', '/opt/conda/lib/python3.7/site-packages', '/opt/conda/lib/python3.7/site-packages/IPython/extensions', '/home/jovyan/.ipython']\n"
     ]
    }
   ],
   "source": [
    "# try this: restart the kernel and see what is in sys.path\n",
    "import sys\n",
    "print(sys.path)"
   ]
  },
  {
   "cell_type": "code",
   "execution_count": null,
   "metadata": {},
   "outputs": [],
   "source": []
  }
 ],
 "metadata": {
  "kernelspec": {
   "display_name": "Python 3",
   "language": "python",
   "name": "python3"
  },
  "language_info": {
   "codemirror_mode": {
    "name": "ipython",
    "version": 3
   },
   "file_extension": ".py",
   "mimetype": "text/x-python",
   "name": "python",
   "nbconvert_exporter": "python",
   "pygments_lexer": "ipython3",
   "version": "3.7.6"
  }
 },
 "nbformat": 4,
 "nbformat_minor": 4
}
