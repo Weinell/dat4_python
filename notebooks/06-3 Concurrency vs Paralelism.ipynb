{
 "cells": [
  {
   "cell_type": "markdown",
   "metadata": {},
   "source": [
    "# Concurrency vs Parallelism\n",
    "### Threads vs. Processes\n",
    "Content in this notebook is mainly from here:  \n",
    "https://medium.com/contentsquare-engineering-blog/multithreading-vs-multiprocessing-in-python-ece023ad55a  \n",
    "and here (more extensive):  \n",
    "https://medium.com/@bfortuner/python-multithreading-vs-multiprocessing-73072ce5600b\n"
   ]
  },
  {
   "cell_type": "markdown",
   "metadata": {},
   "source": [
    "### 6 Facts about threads and processes in python\n",
    "1. There can only be one thread running at any given time in a python process.\n",
    "2. Multiprocessing is parallelism. Multithreading is concurrency.\n",
    "3. Multiprocessing is for increasing speed. Multithreading is for hiding latency.\n",
    "4. Multiprocessing is best for computations. Multithreading is best for IO.\n",
    "5. If you have CPU heavy tasks, use multiprocessing with n_process = n_cores and never more.\n",
    "6. If you have IO heavy tasks, use multithreading"
   ]
  },
  {
   "cell_type": "markdown",
   "metadata": {},
   "source": [
    "## Articles on threads in python:\n",
    "https://www.geeksforgeeks.org/multithreading-python-set-1/    \n",
    "https://www.geeksforgeeks.org/multithreading-in-python-set-2-synchronization/  "
   ]
  },
  {
   "cell_type": "markdown",
   "metadata": {},
   "source": [
    "### Using an abstraction layer\n",
    "We can then implement use of threads and processes in much the same way:   \n",
    "`ThreadPoolExecutor`  \n",
    "`ProcessPoolExecutor`"
   ]
  },
  {
   "cell_type": "code",
   "execution_count": 1,
   "metadata": {},
   "outputs": [],
   "source": [
    "from concurrent.futures import ThreadPoolExecutor\n",
    "from concurrent.futures import ProcessPoolExecutor\n",
    "import multiprocessing\n",
    "\n",
    "import time \n",
    "import matplotlib.pyplot as plt\n",
    "import numpy as np"
   ]
  },
  {
   "cell_type": "code",
   "execution_count": 2,
   "metadata": {},
   "outputs": [],
   "source": [
    "def cpu_heavy_time_it(x):\n",
    "    \"\"\"purpose is to use much cpu time\"\"\"\n",
    "    print('I am task number:', x) \n",
    "    start = time.time()\n",
    "    count = 0\n",
    "    for i in range(10**8):\n",
    "        count += i\n",
    "    stop = time.time()\n",
    "    return start, stop"
   ]
  },
  {
   "cell_type": "code",
   "execution_count": 3,
   "metadata": {},
   "outputs": [],
   "source": [
    "from modules import webget\n",
    "def io_heavy_time_it(x):\n",
    "    \"\"\"purpose is to use much IO latency time\"\"\"\n",
    "    url = 'https://api.github.com/repositories/'\n",
    "    print('I am task number:', x)\n",
    "    start = time.time()\n",
    "    count = 0\n",
    "    for i in range(1,50): \n",
    "        new_url = url+str(i)\n",
    "        print(new_url)\n",
    "        try:\n",
    "            webget.download(new_url,to=f'data/todelete/todelete{i}.txt')\n",
    "        except:\n",
    "            print('Exception occured')\n",
    "    stop = time.time()\n",
    "    return start, stop"
   ]
  },
  {
   "cell_type": "code",
   "execution_count": 4,
   "metadata": {},
   "outputs": [
    {
     "name": "stdout",
     "output_type": "stream",
     "text": [
      "I am task number: \n",
      "https://api.github.com/repositories/1\n",
      "Exception occured\n",
      "https://api.github.com/repositories/2\n",
      "Exception occured\n",
      "https://api.github.com/repositories/3\n",
      "Exception occured\n",
      "https://api.github.com/repositories/4\n",
      "Exception occured\n",
      "https://api.github.com/repositories/5\n",
      "Exception occured\n",
      "https://api.github.com/repositories/6\n",
      "Exception occured\n",
      "https://api.github.com/repositories/7\n",
      "Exception occured\n",
      "https://api.github.com/repositories/8\n",
      "Exception occured\n",
      "https://api.github.com/repositories/9\n",
      "Exception occured\n",
      "https://api.github.com/repositories/10\n",
      "Exception occured\n",
      "https://api.github.com/repositories/11\n",
      "Exception occured\n",
      "https://api.github.com/repositories/12\n",
      "Exception occured\n",
      "https://api.github.com/repositories/13\n",
      "Exception occured\n",
      "https://api.github.com/repositories/14\n",
      "Exception occured\n",
      "https://api.github.com/repositories/15\n",
      "Exception occured\n",
      "https://api.github.com/repositories/16\n",
      "Exception occured\n",
      "https://api.github.com/repositories/17\n",
      "Exception occured\n",
      "https://api.github.com/repositories/18\n",
      "Exception occured\n",
      "https://api.github.com/repositories/19\n",
      "Exception occured\n",
      "https://api.github.com/repositories/20\n",
      "Exception occured\n",
      "https://api.github.com/repositories/21\n",
      "Exception occured\n",
      "https://api.github.com/repositories/22\n",
      "Exception occured\n",
      "https://api.github.com/repositories/23\n",
      "Exception occured\n",
      "https://api.github.com/repositories/24\n",
      "Exception occured\n",
      "https://api.github.com/repositories/25\n",
      "Exception occured\n",
      "https://api.github.com/repositories/26\n",
      "Exception occured\n",
      "https://api.github.com/repositories/27\n",
      "Exception occured\n",
      "https://api.github.com/repositories/28\n",
      "Exception occured\n",
      "https://api.github.com/repositories/29\n",
      "Exception occured\n",
      "https://api.github.com/repositories/30\n",
      "Exception occured\n",
      "https://api.github.com/repositories/31\n",
      "Exception occured\n",
      "https://api.github.com/repositories/32\n",
      "Exception occured\n",
      "https://api.github.com/repositories/33\n",
      "Exception occured\n",
      "https://api.github.com/repositories/34\n",
      "Exception occured\n",
      "https://api.github.com/repositories/35\n",
      "Exception occured\n",
      "https://api.github.com/repositories/36\n",
      "Exception occured\n",
      "https://api.github.com/repositories/37\n",
      "Exception occured\n",
      "https://api.github.com/repositories/38\n",
      "Exception occured\n",
      "https://api.github.com/repositories/39\n",
      "Exception occured\n",
      "https://api.github.com/repositories/40\n",
      "Exception occured\n",
      "https://api.github.com/repositories/41\n",
      "Exception occured\n",
      "https://api.github.com/repositories/42\n",
      "Exception occured\n",
      "https://api.github.com/repositories/43\n",
      "Exception occured\n",
      "https://api.github.com/repositories/44\n",
      "Exception occured\n",
      "https://api.github.com/repositories/45\n",
      "Exception occured\n",
      "https://api.github.com/repositories/46\n",
      "Exception occured\n",
      "https://api.github.com/repositories/47\n",
      "Exception occured\n",
      "https://api.github.com/repositories/48\n",
      "Exception occured\n",
      "https://api.github.com/repositories/49\n",
      "Exception occured\n"
     ]
    },
    {
     "data": {
      "text/plain": [
       "(1646736712.1040096, 1646736723.822573)"
      ]
     },
     "execution_count": 4,
     "metadata": {},
     "output_type": "execute_result"
    }
   ],
   "source": [
    "io_heavy_time_it('')"
   ]
  },
  {
   "cell_type": "code",
   "execution_count": 5,
   "metadata": {},
   "outputs": [],
   "source": [
    "def multithreading(func, args, workers=5):\n",
    "    with ThreadPoolExecutor(workers) as ex:\n",
    "        res = ex.map(func, args)\n",
    "    return list(res)\n",
    "\n",
    "def multiprocess(func, args, workers=multiprocessing.cpu_count()):\n",
    "    with ProcessPoolExecutor(workers) as ex:\n",
    "        res = ex.map(func, args)\n",
    "    return list(res)"
   ]
  },
  {
   "cell_type": "code",
   "execution_count": 6,
   "metadata": {},
   "outputs": [],
   "source": [
    "def visualize_runtimes(results, title):\n",
    "    print(results) \n",
    "    start, stop = np.array(results).T\n",
    "    # horizontal bar plot plt.barh\n",
    "    plt.barh(range(len(start)), stop - start)\n",
    "    plt.grid(axis='x')\n",
    "    plt.ylabel(\"Tasks\")\n",
    "    plt.xlabel(\"Seconds\")\n",
    "    plt.xlim(0, 22.5)\n",
    "    ytks = range(len(results))\n",
    "    plt.yticks(ytks, ['job {}'.format(exp) for exp in ytks])\n",
    "    plt.title(title)\n",
    "    return stop[-1] - start[0]\n",
    "# visualize_runtimes(multithreading(cpu_heavy, range(4), 4), \"Multithreading\")\n"
   ]
  },
  {
   "cell_type": "code",
   "execution_count": 7,
   "metadata": {},
   "outputs": [
    {
     "name": "stdout",
     "output_type": "stream",
     "text": [
      "I am task number:I am task number: 2\n",
      " 1\n",
      "I am task number: 3\n",
      "I am task number: 4\n",
      "I am task number: 5\n",
      "I am task number:I am task number: 7\n",
      " 6\n",
      "[(1646736723.935098, 1646736756.7431884), (1646736723.905492, 1646736756.500847), (1646736723.9239402, 1646736756.488898), (1646736723.9464827, 1646736756.552887), (1646736723.980288, 1646736756.6606429), (1646736756.5068517, 1646736769.9541137), (1646736756.501227, 1646736769.934879)]\n",
      "I am task number:I am task number:I am task number:I am task number:I am task number:  3  2I am task number:\n",
      "\n",
      "4 61\n",
      "\n",
      "\n",
      " 5\n",
      "I am task number: 7\n",
      "[(1646736770.0449657, 1646736777.030685), (1646736770.0255713, 1646736776.9550662), (1646736770.0258718, 1646736776.8467422), (1646736770.0472176, 1646736776.8732133), (1646736770.0548704, 1646736776.8903475), (1646736770.0386255, 1646736776.903813), (1646736776.8536267, 1646736783.375967)]\n"
     ]
    },
    {
     "data": {
      "image/png": "[encoded data removed]",
      "text/plain": [
       "<Figure size 432x288 with 2 Axes>"
      ]
     },
     "metadata": {
      "needs_background": "light"
     },
     "output_type": "display_data"
    }
   ],
   "source": [
    "# cpu heavy task, tackled with multithreading then with multiprocessing\n",
    "plt.subplot(1, 2, 1) # subplot(nrows,ncols,index) matrix of plots and the position of this one\n",
    "visualize_runtimes(multithreading(cpu_heavy_time_it, range(1,8)), \"Multithreading\")\n",
    "plt.subplot(1, 2, 2)\n",
    "visualize_runtimes(multiprocess(cpu_heavy_time_it, range(1,8)), \"Multiprocessing\")\n",
    "plt.show()"
   ]
  },
  {
   "cell_type": "markdown",
   "metadata": {},
   "source": [
    "# Exercise with threads and processes\n",
    "1. Create a function that can take a list of image urls with http and using a thread pool can download the images to disk\n",
    "  - test the function with dummy images from https://dummyimage.com/600x400/000/fff (/image_size/background_color/foreground_color can be set programmatically to load many different images. See function in cell below)\n",
    "2. Create a function that can use process pool to calculate fibonacci sequence using this recursive fibonacci function:  \n",
    "\n",
    "```python\n",
    "def fibo(n):\n",
    "    if n <= 1:\n",
    "        return n\n",
    "    else:\n",
    "        return(fibo(n-1) + fibo(n-2))\n",
    "```\n",
    "  - Make your function so that it can take a sequence of numbers and return the corresponding fibbonaci values   \n",
    "  \n",
    "HINT: the processor time needed for each calculation increases exponentially as higher numbers are given to the function. Therefore it makes sense to create processes equivalent to amount of cpu cores on the computer to distribute the work load as it gets really heavy moving beyond 35 (on my computer)"
   ]
  },
  {
   "cell_type": "code",
   "execution_count": 8,
   "metadata": {},
   "outputs": [],
   "source": [
    "def get_img_urls():\n",
    "    urls, filenames = [],[]\n",
    "    for height in range(100,600,200):\n",
    "        for width in range(100,600,200):\n",
    "            for background in range(0,16,2):\n",
    "                for foreground in range(0,16,2):\n",
    "                    # print('{:X}'.format(i)*3)\n",
    "                    urls.append('https://dummyimage.com/{width}x{height}/{background:x}{background:x}{background:x}/{foreground:x}{foreground:x}{foreground:x}'\n",
    "                                .format(height=height,width=width,background=background,foreground=foreground))\n",
    "                    filenames.append('img{width}x{height}-{background:x}{background:x}{background:x}-{foreground:x}{foreground:x}{foreground:x}.png'\n",
    "                                .format(height=height,width=width,background=background,foreground=foreground))\n",
    "    return urls,filenames"
   ]
  },
  {
   "cell_type": "code",
   "execution_count": 9,
   "metadata": {},
   "outputs": [
    {
     "name": "stdout",
     "output_type": "stream",
     "text": [
      "fibonacci of 35 is: 9227465\n",
      "Fibonacci sequence ranging from 0 and up to n:\n",
      "0\n",
      "1\n",
      "1\n",
      "2\n",
      "3\n",
      "5\n",
      "8\n",
      "13\n",
      "21\n",
      "34\n",
      "55\n",
      "89\n",
      "144\n",
      "233\n",
      "377\n",
      "610\n",
      "987\n",
      "1597\n",
      "2584\n",
      "4181\n",
      "6765\n",
      "10946\n",
      "17711\n",
      "28657\n",
      "46368\n",
      "75025\n",
      "121393\n",
      "196418\n",
      "317811\n",
      "514229\n",
      "832040\n",
      "1346269\n",
      "2178309\n",
      "3524578\n",
      "5702887\n",
      "9227465\n"
     ]
    }
   ],
   "source": [
    "\n",
    "def fibo(n):\n",
    "    if n <= 1:\n",
    "        return n\n",
    "    else:\n",
    "        return(fibo(n-1) + fibo(n-2))\n",
    "\n",
    "n = 35\n",
    "print(f'fibonacci of {n} is: {fibo(n)}')\n",
    "# check if the number of terms is valid\n",
    "\n",
    "print(\"Fibonacci sequence ranging from 0 and up to n:\")\n",
    "for i in range(n+1):\n",
    "    print(fibo(i))"
   ]
  },
  {
   "cell_type": "code",
   "execution_count": 10,
   "metadata": {},
   "outputs": [
    {
     "name": "stdout",
     "output_type": "stream",
     "text": [
      "4.91 s ± 281 ms per loop (mean ± std. dev. of 7 runs, 1 loop each)\n"
     ]
    }
   ],
   "source": [
    "%%timeit\n",
    "for x in [2,3,4,20,34,35]:\n",
    "    fibo(x)\n"
   ]
  }
 ],
 "metadata": {
  "kernelspec": {
   "display_name": "Python 3",
   "language": "python",
   "name": "python3"
  },
  "language_info": {
   "codemirror_mode": {
    "name": "ipython",
    "version": 3
   },
   "file_extension": ".py",
   "mimetype": "text/x-python",
   "name": "python",
   "nbconvert_exporter": "python",
   "pygments_lexer": "ipython3",
   "version": "3.7.6"
  },
  "varInspector": {
   "cols": {
    "lenName": 16,
    "lenType": 16,
    "lenVar": 40
   },
   "kernels_config": {
    "python": {
     "delete_cmd_postfix": "",
     "delete_cmd_prefix": "del ",
     "library": "var_list.py",
     "varRefreshCmd": "print(var_dic_list())"
    },
    "r": {
     "delete_cmd_postfix": ") ",
     "delete_cmd_prefix": "rm(",
     "library": "var_list.r",
     "varRefreshCmd": "cat(var_dic_list()) "
    }
   },
   "types_to_exclude": [
    "module",
    "function",
    "builtin_function_or_method",
    "instance",
    "_Feature"
   ],
   "window_display": false
  }
 },
 "nbformat": 4,
 "nbformat_minor": 2
}
