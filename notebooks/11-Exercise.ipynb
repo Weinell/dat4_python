{
 "cells": [
  {
   "cell_type": "markdown",
   "metadata": {},
   "source": [
    "## Exercise\n",
    "### Part 1\n",
    "1. Take a picture of an apple and put it in the image folder in the notebook environment\n",
    "2. Find the contour of the apple\n",
    "3. Draw a yellow circle with the center placed on the center of the apple contour\n",
    "4. Draw a square that precisely holds the apple\n",
    "5. Take a picture of three seperate apples.\n",
    "6. Use contours to programmatically identify the number of apples in the photo"
   ]
  },
  {
   "cell_type": "markdown",
   "metadata": {},
   "source": [
    "### Part 2 (Optional)\n",
    "1. From [Data](https://unsplash.com/search/photos/jeep) use selenium to download all images of jeeps\n",
    "2. Use OpenCV to reduce the amount of colors in the images\n",
    "3. Use OpenCV to find corners [Help](https://docs.opencv.org/master/d8/dd8/tutorial_good_features_to_track.html)\n",
    "4. (EXTRA) Find all the wheels"
   ]
  },
  {
   "cell_type": "markdown",
   "metadata": {},
   "source": [
    "## Part 3 (Only if you have extra time)\n",
    "Follow this tutorial\n",
    "https://www.mygreatlearning.com/blog/opencv-tutorial-in-python/#sh17\n",
    "\n",
    "Take any number of exercises, that you can test out and try to apply the techniques on other different images of your own choice. Be aware that using the camera requires you to not use the docker setup. So if you want to play with that you would have to install Anaconda and OpenCV on you own machine."
   ]
  }
 ],
 "metadata": {
  "kernelspec": {
   "display_name": "Python 3",
   "language": "python",
   "name": "python3"
  },
  "language_info": {
   "codemirror_mode": {
    "name": "ipython",
    "version": 3
   },
   "file_extension": ".py",
   "mimetype": "text/x-python",
   "name": "python",
   "nbconvert_exporter": "python",
   "pygments_lexer": "ipython3",
   "version": "3.7.6"
  }
 },
 "nbformat": 4,
 "nbformat_minor": 4
}
