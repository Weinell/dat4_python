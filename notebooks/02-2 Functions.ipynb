{
 "cells": [
  {
   "cell_type": "markdown",
   "metadata": {},
   "source": [
    "# Defining a Function\n",
    "\n",
    "\n",
    "You are already familiar with the `print()`, `sort()` and `len()` functions from the previous sessions. Python provides several built-in functions like these, but you can also write your own functions. A function is like a mini-program within a program.\n",
    "\n",
    "If you need to perform that task multiple times throughout your program, you do not need to type all the code for the same task again and again; you just call the function dedicated to handling that task, and the call tells Python to run the code inside the function. You will find that using functions makes your programs easier to write, read, test, and  x."
   ]
  },
  {
   "cell_type": "code",
   "execution_count": 1,
   "metadata": {},
   "outputs": [
    {
     "name": "stdout",
     "output_type": "stream",
     "text": [
      "Call me Ishmael.\n",
      "<class 'NoneType'>\n"
     ]
    }
   ],
   "source": [
    "def print_sentence():\n",
    "    \"\"\"This is a doc string. \n",
    "    It descripes the function in terms of overall purpose, \n",
    "    arguments and return value(s)\n",
    "    \"\"\"\n",
    "    \n",
    "    fst_sentence = 'Call me Ishmael.'\n",
    "    print(fst_sentence)\n",
    "    \n",
    "print(type(print_sentence()))"
   ]
  },
  {
   "cell_type": "markdown",
   "metadata": {},
   "source": [
    "This example shows the simplest structure of a function. The first line uses the keyword `def` to inform the Python interpreter, that you are defining a function. This is the *function definition*, which tells the interpreter the name of the function and, if applicable, what kind of information the function needs to do its job. The parentheses hold that information, the *arguments*. In this case, the name of the function\n",
    "is `print_sentence()`, and it needs no information to do its job, so its parentheses are empty, there are no arguments. (Even so, the parentheses are required.) Finally, the definition ends in a colon.\n",
    "\n",
    "Any indented lines that follow `def print_sentence():` make up the *body of the function*. The text in `\"\"\" \"\"\"` is a comment called a *docstring*, which describes what the function does. Docstrings are enclosed in triple quotes, which Python looks for when it generates documentation for the functions in your programs.\n",
    "\n",
    "The lines: \n",
    "\n",
    "```python\n",
    "    fst_sentence = 'Call me Ishmael.'\n",
    "    print(fst_sentence)\n",
    "```\n",
    "\n",
    "are the only lines of actual code in the body of this function, so `print_sentence()` has just one job, it prints the first sentence of Moby Dick.\n",
    "\n",
    "\n",
    "When you want to use this function, you call it. A *function call* tells Python to execute the code in the function. To call a function, you write the name of the function, followed by any necessary arguments in parentheses. Because no information is needed here, calling our function is as simple as entering `print_sentence()`."
   ]
  },
  {
   "cell_type": "markdown",
   "metadata": {},
   "source": [
    "## Passing Information to a Function via Arguments\n",
    "\n",
    "### Arguments and Parameters\n",
    "In the following example, `modify_sentence(name)` requires a value for the variable `name`. Once we called the function and gave it the information -a person’s name-, it prints a modified sentence.\n",
    "\n",
    "The variable `name` in the definition of `modify_sentence(name)` is an example of a *parameter*, a piece of information the function needs to do its job. The value `'Ahab'` in `modify_sentence('Ahab')` is an example of an argument. An argument is a piece of information that is passed from a function call to a function. When we call the function, we place the value we want the function to work with in parentheses. In this case the argument `'Ahab'` was passed to the function `modify_sentence(name)`, and the value was stored in the parameter `name`.\n",
    "\n",
    "Note, people sometimes speak of arguments and parameters interchangeably.\n"
   ]
  },
  {
   "cell_type": "code",
   "execution_count": 22,
   "metadata": {},
   "outputs": [
    {
     "name": "stdout",
     "output_type": "stream",
     "text": [
      "Niels Andersen is 23 years old and lives at Hellerupgade 12, 2100 Købhenhavn Ø\n"
     ]
    }
   ],
   "source": [
    "def display_person(name, age, address):\n",
    "    \"\"\"Display a details about a person\n",
    "    \n",
    "    Parameters:\n",
    "    name: Name to insert in the sentence.\n",
    "    age: The age of ther person to display\n",
    "    address: The full address with city and zip code\n",
    "    \"\"\"\n",
    "    \n",
    "    sentence = f'{name} is {age} years old and lives at {address}'\n",
    "    print(sentence)\n",
    "    \n",
    "display_person('Niels Andersen',23,'Hellerupgade 12, 2100 Købhenhavn Ø')"
   ]
  },
  {
   "cell_type": "code",
   "execution_count": 23,
   "metadata": {},
   "outputs": [
    {
     "name": "stdout",
     "output_type": "stream",
     "text": [
      "Display a details about a person\n",
      "    \n",
      "    Parameters:\n",
      "    name: Name to insert in the sentence.\n",
      "    age: The age of ther person to display\n",
      "    address: The full address with city and zip code\n",
      "    \n"
     ]
    }
   ],
   "source": [
    "print(display_person.__doc__)"
   ]
  },
  {
   "cell_type": "markdown",
   "metadata": {},
   "source": [
    "### Positional Arguments\n",
    "\n",
    "When you call a function, Python must match each argument in the function call with a parameter in the function definition. The simplest way to do this is based on the order of the arguments provided. Values matched up this way are called *positional arguments*.\n",
    "\n",
    "Consequently, you can get unexpected results if you mix up the order of the arguments in a function call when using positional arguments."
   ]
  },
  {
   "cell_type": "code",
   "execution_count": 4,
   "metadata": {},
   "outputs": [
    {
     "name": "stdout",
     "output_type": "stream",
     "text": [
      "1.25\n"
     ]
    }
   ],
   "source": [
    "def apply_division(a, b):\n",
    "    \"\"\"Divide a by b\n",
    "\n",
    "    :param a: number\n",
    "        Dividend of devision operation.\n",
    "        \n",
    "    :param b: number\n",
    "        Divisor of devision operation.\n",
    "    \"\"\"\n",
    "    result = a / b\n",
    "    print(result)\n",
    "    \n",
    "apply_division(5, 4)"
   ]
  },
  {
   "cell_type": "markdown",
   "metadata": {},
   "source": [
    "### Keyword Arguments\n",
    "\n",
    "*Keyword arguments* are name-value pairs that you pass to a function. You directly associate the name and the value within the argument, so when you pass the argument to the function, there is no confusion. Keyword arguments free you from having to worry about correctly ordering your arguments in the function call, and they clarify the role of each value in the function call."
   ]
  },
  {
   "cell_type": "code",
   "execution_count": 5,
   "metadata": {},
   "outputs": [
    {
     "name": "stdout",
     "output_type": "stream",
     "text": [
      "1.25\n",
      "1.25\n"
     ]
    }
   ],
   "source": [
    "def apply_division(dividend, divisor):\n",
    "    result = dividend / divisor\n",
    "    print(result)\n",
    "    \n",
    "apply_division(dividend=5, divisor=4)\n",
    "apply_division(divisor=4, dividend=5)"
   ]
  },
  {
   "cell_type": "markdown",
   "metadata": {},
   "source": [
    "### Default Values\n",
    "\n",
    "When writing a function, you can define a default value for each parameter. If an argument for a parameter is provided in the function call, Python uses the argument value. If not, it uses the parameter’s default value. So when you define a default value for a parameter, you can exclude the corresponding argument you would usually write in the function call. Using default values can simplify your function calls and clarify the ways in which your functions are typically used.\n",
    "\n",
    "**OBS!** When you use default values, any parameter with a default value needs to be listed after all the parameters that do not have default values. This allows Python to continue interpreting positional arguments correctly."
   ]
  },
  {
   "cell_type": "markdown",
   "metadata": {},
   "source": [
    "### Argument Errors\n",
    "\n",
    "When you start to use functions, do not be surprised if you encounter errors about unmatched arguments. Unmatched arguments occur when you provide fewer or more arguments than a function needs to do its work."
   ]
  },
  {
   "cell_type": "code",
   "execution_count": 24,
   "metadata": {},
   "outputs": [
    {
     "name": "stdout",
     "output_type": "stream",
     "text": [
      "1.25\n",
      "2.5\n",
      "<class 'TypeError'> apply_division() missing 1 required positional argument: 'dividend'\n"
     ]
    }
   ],
   "source": [
    "def apply_division(dividend, divisor=2):\n",
    "    result = dividend / divisor\n",
    "    print(result)\n",
    "    \n",
    "apply_division(5, 4)\n",
    "apply_division(5)\n",
    "\n",
    "try:\n",
    "    apply_division()\n",
    "except Exception as e:\n",
    "    print(type(e),e)"
   ]
  },
  {
   "cell_type": "markdown",
   "metadata": {},
   "source": [
    "### Equivalent Function Calls\n",
    "\n",
    "Because positional arguments, keyword arguments, and default values can all be used together, often you will have several equivalent ways to call a function. Consider the following:"
   ]
  },
  {
   "cell_type": "code",
   "execution_count": 1,
   "metadata": {},
   "outputs": [
    {
     "ename": "IndentationError",
     "evalue": "unexpected indent (<ipython-input-1-3de286f99af1>, line 4)",
     "output_type": "error",
     "traceback": [
      "\u001b[0;36m  File \u001b[0;32m\"<ipython-input-1-3de286f99af1>\"\u001b[0;36m, line \u001b[0;32m4\u001b[0m\n\u001b[0;31m    print()\u001b[0m\n\u001b[0m    ^\u001b[0m\n\u001b[0;31mIndentationError\u001b[0m\u001b[0;31m:\u001b[0m unexpected indent\n"
     ]
    }
   ],
   "source": [
    "def apply_division(dividend: int, divisor=2):\n",
    "    result = dividend / divisor\n",
    "    print(result)\n",
    "print()\n",
    "\n",
    "#apply_division(\"5\")\n",
    "apply_division(dividend=5)\n",
    "\n",
    "apply_division(5, 4)\n",
    "apply_division(dividend=5, divisor=4)\n",
    "apply_division(divisor=4, dividend=5)\n"
   ]
  },
  {
   "cell_type": "markdown",
   "metadata": {},
   "source": [
    "# `return` Values\n",
    "\n",
    "A function does not always have to display its output directly. Instead, it can process some data and then return a value or set of values. The value the function returns is called a return value. The return statement takes a value from inside a function and sends it back to the line that called the function. Return values allow you to move much of your program’s grunt work into functions, which can simplify the body of your program.\n",
    "\n",
    "A function can return any kind of value you need it to, including more com- plicated data structures like lists and dictionaries."
   ]
  },
  {
   "cell_type": "code",
   "execution_count": 6,
   "metadata": {},
   "outputs": [
    {
     "name": "stdout",
     "output_type": "stream",
     "text": [
      "Call me Ahab.\n"
     ]
    }
   ],
   "source": [
    "def modify_sentence(name):\n",
    "    \"\"\"Construct a modified first sentence of Moby Dick\n",
    "\n",
    "    :param name: str\n",
    "        Name to insert in the sentence.\n",
    "        \n",
    "    :return: str\n",
    "        The modified first sentence.\n",
    "    \"\"\"\n",
    "    \n",
    "    fst_sentence = 'Call me ' + name + '.'\n",
    "    return fst_sentence\n",
    "    \n",
    "result = modify_sentence('Ahab')\n",
    "print(result)"
   ]
  },
  {
   "cell_type": "code",
   "execution_count": 2,
   "metadata": {},
   "outputs": [
    {
     "name": "stdout",
     "output_type": "stream",
     "text": [
      "no return\n",
      "None\n"
     ]
    }
   ],
   "source": [
    "def test_none():\n",
    "    print('no return')\n",
    "result = test_none()\n",
    "print(result)"
   ]
  },
  {
   "cell_type": "code",
   "execution_count": 1,
   "metadata": {},
   "outputs": [
    {
     "data": {
      "text/plain": [
       "3"
      ]
     },
     "execution_count": 1,
     "metadata": {},
     "output_type": "execute_result"
    }
   ],
   "source": [
    "# function can return different data types\n",
    "import random\n",
    "def returnAny():\n",
    "    lst = [3,'hej',2.3]\n",
    "    return random.choice(lst)\n",
    "\n",
    "returnAny()"
   ]
  },
  {
   "cell_type": "code",
   "execution_count": 2,
   "metadata": {},
   "outputs": [
    {
     "name": "stdout",
     "output_type": "stream",
     "text": [
      "Grethe 4\n",
      "<class 'tuple'>\n",
      "('Hans', 'Grethe', 4, 5.3)\n"
     ]
    }
   ],
   "source": [
    "# return multiple values as a tuple\n",
    "def return_multi():\n",
    "    return 'Hans' , 'Grethe' , 4 , 5.3\n",
    "\n",
    "_, child1, child2,_ = return_multi()\n",
    "t = return_multi()\n",
    "\n",
    "print(child1,child2)\n",
    "print(type(return_multi()))\n",
    "print(t)"
   ]
  },
  {
   "cell_type": "markdown",
   "metadata": {},
   "source": [
    "# Passing an Arbitrary Number of Arguments\n",
    "\n",
    "Sometimes you won’t know ahead of time how many arguments a function needs to accept. Fortunately, Python allows a function to collect an arbitrary number of arguments from the calling statement."
   ]
  },
  {
   "cell_type": "code",
   "execution_count": 3,
   "metadata": {},
   "outputs": [
    {
     "name": "stdout",
     "output_type": "stream",
     "text": [
      "Ahab- Ishmael\n",
      "Ahab- Queequeg\n",
      "Ahab- third\n"
     ]
    }
   ],
   "source": [
    "# first use the positional arguments, then catch the rest in a sequence\n",
    "def hire_crew(ship, *sailors):\n",
    "    \"\"\"Print the list of hired crew members.\"\"\"\n",
    "    #print(type(sailors))\n",
    "    for sailor in sailors:\n",
    "        print(ship + '- ' + sailor)\n",
    "    return ship, sailors\n",
    "        \n",
    "result = hire_crew('Ahab', 'Ishmael', 'Queequeg', \"third\")\n",
    "result2 = list(result[1])"
   ]
  },
  {
   "cell_type": "markdown",
   "metadata": {},
   "source": [
    "## Mixing Positional and Arbitrary Arguments\n",
    "\n",
    "If you want a function to accept several different kinds of arguments, the parameter that accepts an arbitrary number of arguments must be placed last in the function definition. Python matches positional and keyword arguments  first and then collects any remaining arguments in the final parameter."
   ]
  },
  {
   "cell_type": "code",
   "execution_count": 17,
   "metadata": {},
   "outputs": [
    {
     "data": {
      "text/plain": [
       "['Ahab', 'Ishmael', 'Queequeg']"
      ]
     },
     "execution_count": 17,
     "metadata": {},
     "output_type": "execute_result"
    }
   ],
   "source": [
    "def hire_crew(amount, *sailors):\n",
    "    \"\"\"Checks the list of hired crew members.\"\"\"\n",
    "    members = []\n",
    "    if amount != len(sailors):\n",
    "        return False\n",
    "    for sailor in sailors:\n",
    "        members.append(sailor)\n",
    "    return members\n",
    "\n",
    "hire_crew(1, 'Ahab')\n",
    "hire_crew(3, 'Ahab', 'Ishmael', 'Queequeg')"
   ]
  },
  {
   "cell_type": "markdown",
   "metadata": {},
   "source": [
    "## Using Arbitrary Keyword Arguments\n",
    "\n",
    "Sometimes you will want to accept an arbitrary number of arguments, but you won’t know ahead of time what kind of information will be passed to the function. In this case, you can write functions that accept as many key-value pairs as the calling statement provides. One example involves building user profiles: you know you will get information about a user, but you are not sure what kind of information you’ll receive. The function `build_profile()` in the following example always takes in a first and last name, but it accepts an arbitrary number of keyword arguments as well.\n",
    "\n",
    "The definition of build_profile() expects a  first and last name, and then it allows the user to pass in as many name-value pairs as they want. The double asterisks before the parameter `**user_info` cause Python to create an empty dictionary called user_info and pack whatever name-value pairs it receives into this dictionary. Within the function, you can access the name-value pairs in `user_info` just as you would for any dictionary."
   ]
  },
  {
   "cell_type": "code",
   "execution_count": 18,
   "metadata": {
    "scrolled": true
   },
   "outputs": [
    {
     "name": "stdout",
     "output_type": "stream",
     "text": [
      "{'first_name': 'albert', 'last_name': 'einstein', 'location': 'princeton', 'field': 'physics'}\n"
     ]
    }
   ],
   "source": [
    "def build_profile(first, last, **user_info):\n",
    "    \"\"\"Build a dictionary containing everything we know about a user.\"\"\"\n",
    "    profile = {}\n",
    "    profile['first_name'] = first\n",
    "    profile['last_name'] = last\n",
    "    for key, value in user_info.items():\n",
    "        profile[key] = value\n",
    "    return profile\n",
    "\n",
    "user_profile = build_profile('albert', 'einstein',\n",
    "                             location='princeton',\n",
    "                             field='physics')\n",
    "print(user_profile)"
   ]
  },
  {
   "cell_type": "markdown",
   "metadata": {},
   "source": [
    "### Anonymous functions (Lambdas)\n",
    "1. keyword lambda\n",
    "2. colon seperates the 2 parts of the function\n",
    "  - left side: the argument list \n",
    "  - right side: the function body (or simply the return)\n",
    " ![](images/lambda.png)"
   ]
  },
  {
   "cell_type": "code",
   "execution_count": 4,
   "metadata": {},
   "outputs": [
    {
     "name": "stdout",
     "output_type": "stream",
     "text": [
      "11\n",
      "Hellotoyou!\n",
      "('arg1', 'arg2', 'and the last argumet')\n"
     ]
    }
   ],
   "source": [
    "# lambda expression\n",
    "my_lambda = lambda x:x+1\n",
    "print(my_lambda(10))\n",
    "# lambda with optional argument (default value)\n",
    "fn = lambda x, y, z, bang = \"!\" : x + y + z + bang\n",
    "print(fn('Hello','to','you'))\n",
    "# lambda with arbitrary number of arguments\n",
    "fn = lambda *args: args\n",
    "print(fn('arg1','arg2','and the last argumet'))"
   ]
  },
  {
   "cell_type": "markdown",
   "metadata": {},
   "source": [
    "## Recursion\n",
    "Recursion means that a function calls itself. If we do not plan for an **exit strategy** then the function call stack would quickly grow out of memory (we get a stackoverflow exception).\n",
    "\n",
    "1. Recursion is more costly than using iteration (loops)\n",
    "2. There is no case where a solution with recursion could not have been done with iteration\n",
    "3. Recursive solutions are often **easier to read/understand**\n",
    "4. Especially useful when exploring an unknown amount of nodes in a datastructure (e.g. when going down through sub directories looking for a particular file)"
   ]
  },
  {
   "cell_type": "code",
   "execution_count": 8,
   "metadata": {},
   "outputs": [
    {
     "name": "stdout",
     "output_type": "stream",
     "text": [
      "10\n",
      "9\n",
      "8\n",
      "7\n",
      "6\n",
      "5\n",
      "4\n",
      "3\n",
      "2\n",
      "1\n"
     ]
    }
   ],
   "source": [
    "# Example of a recursive\n",
    "def count_down(number):\n",
    "    if number < 1:\n",
    "        return\n",
    "    print(number)\n",
    "    return count_down(number-1)\n",
    "count_down(10)"
   ]
  },
  {
   "cell_type": "markdown",
   "metadata": {},
   "source": [
    "## Exercise\n",
    "![](https://media.giphy.com/media/o0vwzuFwCGAFO/giphy.gif)\n",
    "\n",
    "1. Write a function that iterates through a list and prints each value **without using a loop**.  \n",
    "That is, write a recursive function to print the values of a list.\n",
    "2. Write a function that can take any number of arguments and return all arguments concatenated or summed depending on the data type\n"
   ]
  },
  {
   "cell_type": "code",
   "execution_count": 39,
   "metadata": {},
   "outputs": [
    {
     "name": "stdout",
     "output_type": "stream",
     "text": [
      "Jonna\n",
      "Jack\n",
      "Janni\n",
      "Jesper\n"
     ]
    }
   ],
   "source": [
    "names = [\"Jonna\",\"Jack\",\"Janni\",\"Jesper\"]\n",
    "from my_notebooks.solutions.class_exercises.Ex02_0b_recursive import recursive_print\n",
    "recursive_print(names)"
   ]
  },
  {
   "cell_type": "markdown",
   "metadata": {},
   "source": [
    "## Closure\n",
    "A closure is a function that returns another function. The inner function will then fix the outer functions variable scope in memory to use when needed.  \n",
    "This is possible in python because the language has first class functions (functions are treated as any other kind of variable)."
   ]
  },
  {
   "cell_type": "code",
   "execution_count": 10,
   "metadata": {},
   "outputs": [
    {
     "name": "stdout",
     "output_type": "stream",
     "text": [
      "1\n",
      "2\n",
      "3\n",
      "4\n",
      "5\n"
     ]
    }
   ],
   "source": [
    "def counter():\n",
    "    counts = 0\n",
    "    def inner():\n",
    "        nonlocal counts # nonlocal is used to not hide the global variable\n",
    "        counts += 1\n",
    "        return counts\n",
    "    return inner\n",
    "count = counter()\n",
    "print(count()); print(count()); print(count()); print(count()); print(count())\n"
   ]
  }
 ],
 "metadata": {
  "kernelspec": {
   "display_name": "Python 3.10.5 64-bit ('3.10.5')",
   "language": "python",
   "name": "python3"
  },
  "language_info": {
   "codemirror_mode": {
    "name": "ipython",
    "version": 3
   },
   "file_extension": ".py",
   "mimetype": "text/x-python",
   "name": "python",
   "nbconvert_exporter": "python",
   "pygments_lexer": "ipython3",
   "version": "3.10.5"
  },
  "varInspector": {
   "cols": {
    "lenName": 16,
    "lenType": 16,
    "lenVar": 40
   },
   "kernels_config": {
    "python": {
     "delete_cmd_postfix": "",
     "delete_cmd_prefix": "del ",
     "library": "var_list.py",
     "varRefreshCmd": "print(var_dic_list())"
    },
    "r": {
     "delete_cmd_postfix": ") ",
     "delete_cmd_prefix": "rm(",
     "library": "var_list.r",
     "varRefreshCmd": "cat(var_dic_list()) "
    }
   },
   "types_to_exclude": [
    "module",
    "function",
    "builtin_function_or_method",
    "instance",
    "_Feature"
   ],
   "window_display": false
  },
  "vscode": {
   "interpreter": {
    "hash": "02ef3243ddff6cbe6b72cd9839104b4841ae8e4ded8c4bd4d9f0b6e0e8af36a3"
   }
  }
 },
 "nbformat": 4,
 "nbformat_minor": 2
}
