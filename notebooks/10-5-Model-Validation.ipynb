{
 "cells": [
  {
   "cell_type": "markdown",
   "metadata": {},
   "source": [
    "# Model validation and Classification"
   ]
  },
  {
   "cell_type": "markdown",
   "metadata": {},
   "source": [
    "## The different machine learning types\n",
    "\n",
    "![](images/machine_learning_types_tree.png)\n",
    "\n",
    "### No matter what type of machine learning we need to create a good model"
   ]
  },
  {
   "cell_type": "markdown",
   "metadata": {},
   "source": [
    "# Data models\n",
    "### How to make good models\n",
    "- Find representative data. Data that is a subset of reality but as far as possible represents all aspects of reality properly distributed.\n",
    "- Split data into a **training** part 2/3 to 4/5 of the data and a **test** part of the data\n",
    "- Train the model with the training data over multiple iterations\n",
    "- Test the model with the test data, to see how well the model performs on unknown data."
   ]
  },
  {
   "cell_type": "markdown",
   "metadata": {
    "slideshow": {
     "slide_type": "subslide"
    }
   },
   "source": [
    "## Your model versus the population\n",
    "\n",
    "A sample is a **subset** of a population.\n",
    "\n",
    "You will likely **never** have data that covers the entire population."
   ]
  },
  {
   "cell_type": "markdown",
   "metadata": {
    "slideshow": {
     "slide_type": "fragment"
    }
   },
   "source": [
    "That means that you will likely **never** be able to represent the entire population!\n",
    "\n",
    "Your model will lie!"
   ]
  },
  {
   "cell_type": "markdown",
   "metadata": {
    "slideshow": {
     "slide_type": "subslide"
    }
   },
   "source": [
    "## Populations\n",
    "\n",
    "![](images/pop1.png)"
   ]
  },
  {
   "cell_type": "markdown",
   "metadata": {
    "slideshow": {
     "slide_type": "subslide"
    }
   },
   "source": [
    "## The problem of overfitting\n",
    "Occam's razor implies that any given complex function is a priori less probable than any given simple function. If the new, more complicated function is selected instead of the simple function, and if there was not a large enough gain in training-data fit to offset the complexity increase, then the new complex function \"overfits\" the data, and the complex overfitted function will likely perform worse than the simpler function on validation data outside the training dataset, even though the complex function performed as well, or perhaps even better, on the training dataset\n",
    "\n",
    "![](images/overfitting.png)\n",
    "\n",
    "#### The smaller the dataset the more risk of overfitting\n",
    "For neural networks, using a small network is one way to mitigate overfitting.\n"
   ]
  },
  {
   "cell_type": "code",
   "execution_count": null,
   "metadata": {},
   "outputs": [],
   "source": []
  },
  {
   "cell_type": "markdown",
   "metadata": {
    "slideshow": {
     "slide_type": "subslide"
    }
   },
   "source": [
    "## Carowners and voters\n",
    "\n",
    "In 1963 *millions* of mock ballots was mailed to carowners across the USA, to learn who would win the presidential election.\n",
    "\n",
    "The Republicans was a *clear* winner in the mock ballots, but the Democrats won the election.\n",
    "\n",
    "What went wrong?"
   ]
  },
  {
   "cell_type": "markdown",
   "metadata": {
    "slideshow": {
     "slide_type": "subslide"
    }
   },
   "source": [
    "## The problem of generalisation\n",
    "\n",
    "If X % of sample has Y it does **not** mean that X % of population has Y!\n",
    "\n",
    "**Always** ask yourself: is your data representative?"
   ]
  },
  {
   "cell_type": "markdown",
   "metadata": {
    "slideshow": {
     "slide_type": "subslide"
    }
   },
   "source": [
    "## Training and testing data\n",
    "\n",
    "We now have a split between \n",
    "* **Training data**: the data that the model sees\n",
    "* **Testing data**: the data that the model is tested against"
   ]
  },
  {
   "cell_type": "markdown",
   "metadata": {
    "slideshow": {
     "slide_type": "fragment"
    }
   },
   "source": [
    "Note: the model should **never** train on the testing data"
   ]
  },
  {
   "cell_type": "markdown",
   "metadata": {
    "slideshow": {
     "slide_type": "subslide"
    }
   },
   "source": [
    "## Sklearn `train_test_split`\n",
    "\n",
    "Splitting the data into testing and training makes it more likely that your model generalises.\n",
    "\n",
    "But it **does not guarantee it**!"
   ]
  },
  {
   "cell_type": "code",
   "execution_count": 1,
   "metadata": {
    "slideshow": {
     "slide_type": "subslide"
    }
   },
   "outputs": [
    {
     "name": "stdout",
     "output_type": "stream",
     "text": [
      "Populating the interactive namespace from numpy and matplotlib\n"
     ]
    }
   ],
   "source": [
    "%pylab inline"
   ]
  },
  {
   "cell_type": "code",
   "execution_count": 2,
   "metadata": {
    "slideshow": {
     "slide_type": "subslide"
    }
   },
   "outputs": [],
   "source": [
    "from sklearn.datasets import load_iris"
   ]
  },
  {
   "cell_type": "code",
   "execution_count": 3,
   "metadata": {
    "slideshow": {
     "slide_type": "fragment"
    }
   },
   "outputs": [
    {
     "data": {
      "text/plain": [
       "array([[5.1, 3.5, 1.4, 0.2],\n",
       "       [4.9, 3. , 1.4, 0.2],\n",
       "       [4.7, 3.2, 1.3, 0.2],\n",
       "       [4.6, 3.1, 1.5, 0.2],\n",
       "       [5. , 3.6, 1.4, 0.2],\n",
       "       [5.4, 3.9, 1.7, 0.4],\n",
       "       [4.6, 3.4, 1.4, 0.3],\n",
       "       [5. , 3.4, 1.5, 0.2],\n",
       "       [4.4, 2.9, 1.4, 0.2],\n",
       "       [4.9, 3.1, 1.5, 0.1],\n",
       "       [5.4, 3.7, 1.5, 0.2],\n",
       "       [4.8, 3.4, 1.6, 0.2],\n",
       "       [4.8, 3. , 1.4, 0.1],\n",
       "       [4.3, 3. , 1.1, 0.1],\n",
       "       [5.8, 4. , 1.2, 0.2],\n",
       "       [5.7, 4.4, 1.5, 0.4],\n",
       "       [5.4, 3.9, 1.3, 0.4],\n",
       "       [5.1, 3.5, 1.4, 0.3],\n",
       "       [5.7, 3.8, 1.7, 0.3],\n",
       "       [5.1, 3.8, 1.5, 0.3],\n",
       "       [5.4, 3.4, 1.7, 0.2],\n",
       "       [5.1, 3.7, 1.5, 0.4],\n",
       "       [4.6, 3.6, 1. , 0.2],\n",
       "       [5.1, 3.3, 1.7, 0.5],\n",
       "       [4.8, 3.4, 1.9, 0.2],\n",
       "       [5. , 3. , 1.6, 0.2],\n",
       "       [5. , 3.4, 1.6, 0.4],\n",
       "       [5.2, 3.5, 1.5, 0.2],\n",
       "       [5.2, 3.4, 1.4, 0.2],\n",
       "       [4.7, 3.2, 1.6, 0.2],\n",
       "       [4.8, 3.1, 1.6, 0.2],\n",
       "       [5.4, 3.4, 1.5, 0.4],\n",
       "       [5.2, 4.1, 1.5, 0.1],\n",
       "       [5.5, 4.2, 1.4, 0.2],\n",
       "       [4.9, 3.1, 1.5, 0.2],\n",
       "       [5. , 3.2, 1.2, 0.2],\n",
       "       [5.5, 3.5, 1.3, 0.2],\n",
       "       [4.9, 3.6, 1.4, 0.1],\n",
       "       [4.4, 3. , 1.3, 0.2],\n",
       "       [5.1, 3.4, 1.5, 0.2],\n",
       "       [5. , 3.5, 1.3, 0.3],\n",
       "       [4.5, 2.3, 1.3, 0.3],\n",
       "       [4.4, 3.2, 1.3, 0.2],\n",
       "       [5. , 3.5, 1.6, 0.6],\n",
       "       [5.1, 3.8, 1.9, 0.4],\n",
       "       [4.8, 3. , 1.4, 0.3],\n",
       "       [5.1, 3.8, 1.6, 0.2],\n",
       "       [4.6, 3.2, 1.4, 0.2],\n",
       "       [5.3, 3.7, 1.5, 0.2],\n",
       "       [5. , 3.3, 1.4, 0.2],\n",
       "       [7. , 3.2, 4.7, 1.4],\n",
       "       [6.4, 3.2, 4.5, 1.5],\n",
       "       [6.9, 3.1, 4.9, 1.5],\n",
       "       [5.5, 2.3, 4. , 1.3],\n",
       "       [6.5, 2.8, 4.6, 1.5],\n",
       "       [5.7, 2.8, 4.5, 1.3],\n",
       "       [6.3, 3.3, 4.7, 1.6],\n",
       "       [4.9, 2.4, 3.3, 1. ],\n",
       "       [6.6, 2.9, 4.6, 1.3],\n",
       "       [5.2, 2.7, 3.9, 1.4],\n",
       "       [5. , 2. , 3.5, 1. ],\n",
       "       [5.9, 3. , 4.2, 1.5],\n",
       "       [6. , 2.2, 4. , 1. ],\n",
       "       [6.1, 2.9, 4.7, 1.4],\n",
       "       [5.6, 2.9, 3.6, 1.3],\n",
       "       [6.7, 3.1, 4.4, 1.4],\n",
       "       [5.6, 3. , 4.5, 1.5],\n",
       "       [5.8, 2.7, 4.1, 1. ],\n",
       "       [6.2, 2.2, 4.5, 1.5],\n",
       "       [5.6, 2.5, 3.9, 1.1],\n",
       "       [5.9, 3.2, 4.8, 1.8],\n",
       "       [6.1, 2.8, 4. , 1.3],\n",
       "       [6.3, 2.5, 4.9, 1.5],\n",
       "       [6.1, 2.8, 4.7, 1.2],\n",
       "       [6.4, 2.9, 4.3, 1.3],\n",
       "       [6.6, 3. , 4.4, 1.4],\n",
       "       [6.8, 2.8, 4.8, 1.4],\n",
       "       [6.7, 3. , 5. , 1.7],\n",
       "       [6. , 2.9, 4.5, 1.5],\n",
       "       [5.7, 2.6, 3.5, 1. ],\n",
       "       [5.5, 2.4, 3.8, 1.1],\n",
       "       [5.5, 2.4, 3.7, 1. ],\n",
       "       [5.8, 2.7, 3.9, 1.2],\n",
       "       [6. , 2.7, 5.1, 1.6],\n",
       "       [5.4, 3. , 4.5, 1.5],\n",
       "       [6. , 3.4, 4.5, 1.6],\n",
       "       [6.7, 3.1, 4.7, 1.5],\n",
       "       [6.3, 2.3, 4.4, 1.3],\n",
       "       [5.6, 3. , 4.1, 1.3],\n",
       "       [5.5, 2.5, 4. , 1.3],\n",
       "       [5.5, 2.6, 4.4, 1.2],\n",
       "       [6.1, 3. , 4.6, 1.4],\n",
       "       [5.8, 2.6, 4. , 1.2],\n",
       "       [5. , 2.3, 3.3, 1. ],\n",
       "       [5.6, 2.7, 4.2, 1.3],\n",
       "       [5.7, 3. , 4.2, 1.2],\n",
       "       [5.7, 2.9, 4.2, 1.3],\n",
       "       [6.2, 2.9, 4.3, 1.3],\n",
       "       [5.1, 2.5, 3. , 1.1],\n",
       "       [5.7, 2.8, 4.1, 1.3],\n",
       "       [6.3, 3.3, 6. , 2.5],\n",
       "       [5.8, 2.7, 5.1, 1.9],\n",
       "       [7.1, 3. , 5.9, 2.1],\n",
       "       [6.3, 2.9, 5.6, 1.8],\n",
       "       [6.5, 3. , 5.8, 2.2],\n",
       "       [7.6, 3. , 6.6, 2.1],\n",
       "       [4.9, 2.5, 4.5, 1.7],\n",
       "       [7.3, 2.9, 6.3, 1.8],\n",
       "       [6.7, 2.5, 5.8, 1.8],\n",
       "       [7.2, 3.6, 6.1, 2.5],\n",
       "       [6.5, 3.2, 5.1, 2. ],\n",
       "       [6.4, 2.7, 5.3, 1.9],\n",
       "       [6.8, 3. , 5.5, 2.1],\n",
       "       [5.7, 2.5, 5. , 2. ],\n",
       "       [5.8, 2.8, 5.1, 2.4],\n",
       "       [6.4, 3.2, 5.3, 2.3],\n",
       "       [6.5, 3. , 5.5, 1.8],\n",
       "       [7.7, 3.8, 6.7, 2.2],\n",
       "       [7.7, 2.6, 6.9, 2.3],\n",
       "       [6. , 2.2, 5. , 1.5],\n",
       "       [6.9, 3.2, 5.7, 2.3],\n",
       "       [5.6, 2.8, 4.9, 2. ],\n",
       "       [7.7, 2.8, 6.7, 2. ],\n",
       "       [6.3, 2.7, 4.9, 1.8],\n",
       "       [6.7, 3.3, 5.7, 2.1],\n",
       "       [7.2, 3.2, 6. , 1.8],\n",
       "       [6.2, 2.8, 4.8, 1.8],\n",
       "       [6.1, 3. , 4.9, 1.8],\n",
       "       [6.4, 2.8, 5.6, 2.1],\n",
       "       [7.2, 3. , 5.8, 1.6],\n",
       "       [7.4, 2.8, 6.1, 1.9],\n",
       "       [7.9, 3.8, 6.4, 2. ],\n",
       "       [6.4, 2.8, 5.6, 2.2],\n",
       "       [6.3, 2.8, 5.1, 1.5],\n",
       "       [6.1, 2.6, 5.6, 1.4],\n",
       "       [7.7, 3. , 6.1, 2.3],\n",
       "       [6.3, 3.4, 5.6, 2.4],\n",
       "       [6.4, 3.1, 5.5, 1.8],\n",
       "       [6. , 3. , 4.8, 1.8],\n",
       "       [6.9, 3.1, 5.4, 2.1],\n",
       "       [6.7, 3.1, 5.6, 2.4],\n",
       "       [6.9, 3.1, 5.1, 2.3],\n",
       "       [5.8, 2.7, 5.1, 1.9],\n",
       "       [6.8, 3.2, 5.9, 2.3],\n",
       "       [6.7, 3.3, 5.7, 2.5],\n",
       "       [6.7, 3. , 5.2, 2.3],\n",
       "       [6.3, 2.5, 5. , 1.9],\n",
       "       [6.5, 3. , 5.2, 2. ],\n",
       "       [6.2, 3.4, 5.4, 2.3],\n",
       "       [5.9, 3. , 5.1, 1.8]])"
      ]
     },
     "execution_count": 3,
     "metadata": {},
     "output_type": "execute_result"
    }
   ],
   "source": [
    "X = load_iris().data\n",
    "X"
   ]
  },
  {
   "cell_type": "code",
   "execution_count": 4,
   "metadata": {
    "slideshow": {
     "slide_type": "fragment"
    }
   },
   "outputs": [
    {
     "data": {
      "text/plain": [
       "array([0, 0, 0, 0, 0, 0, 0, 0, 0, 0, 0, 0, 0, 0, 0, 0, 0, 0, 0, 0, 0, 0,\n",
       "       0, 0, 0, 0, 0, 0, 0, 0, 0, 0, 0, 0, 0, 0, 0, 0, 0, 0, 0, 0, 0, 0,\n",
       "       0, 0, 0, 0, 0, 0, 1, 1, 1, 1, 1, 1, 1, 1, 1, 1, 1, 1, 1, 1, 1, 1,\n",
       "       1, 1, 1, 1, 1, 1, 1, 1, 1, 1, 1, 1, 1, 1, 1, 1, 1, 1, 1, 1, 1, 1,\n",
       "       1, 1, 1, 1, 1, 1, 1, 1, 1, 1, 1, 1, 2, 2, 2, 2, 2, 2, 2, 2, 2, 2,\n",
       "       2, 2, 2, 2, 2, 2, 2, 2, 2, 2, 2, 2, 2, 2, 2, 2, 2, 2, 2, 2, 2, 2,\n",
       "       2, 2, 2, 2, 2, 2, 2, 2, 2, 2, 2, 2, 2, 2, 2, 2, 2, 2])"
      ]
     },
     "execution_count": 4,
     "metadata": {},
     "output_type": "execute_result"
    }
   ],
   "source": [
    "y = load_iris().target\n",
    "y"
   ]
  },
  {
   "cell_type": "code",
   "execution_count": 5,
   "metadata": {},
   "outputs": [
    {
     "data": {
      "text/plain": [
       "array(['setosa', 'versicolor', 'virginica'], dtype='<U10')"
      ]
     },
     "execution_count": 5,
     "metadata": {},
     "output_type": "execute_result"
    }
   ],
   "source": [
    "load_iris().target_names"
   ]
  },
  {
   "cell_type": "code",
   "execution_count": 6,
   "metadata": {
    "slideshow": {
     "slide_type": "subslide"
    }
   },
   "outputs": [
    {
     "data": {
      "text/plain": [
       "[array([[5.1, 3.3, 1.7, 0.5],\n",
       "        [6.6, 2.9, 4.6, 1.3],\n",
       "        [6. , 2.2, 5. , 1.5],\n",
       "        [6.8, 2.8, 4.8, 1.4],\n",
       "        [6.7, 3. , 5.2, 2.3],\n",
       "        [4.8, 3.1, 1.6, 0.2],\n",
       "        [6.6, 3. , 4.4, 1.4],\n",
       "        [6.2, 3.4, 5.4, 2.3],\n",
       "        [4.7, 3.2, 1.3, 0.2],\n",
       "        [7.7, 3. , 6.1, 2.3],\n",
       "        [7.2, 3.2, 6. , 1.8],\n",
       "        [6.7, 3.1, 5.6, 2.4],\n",
       "        [6.7, 3. , 5. , 1.7],\n",
       "        [4.7, 3.2, 1.6, 0.2],\n",
       "        [4.9, 3.1, 1.5, 0.2],\n",
       "        [5.5, 3.5, 1.3, 0.2],\n",
       "        [5.8, 2.7, 3.9, 1.2],\n",
       "        [7.7, 3.8, 6.7, 2.2],\n",
       "        [6.7, 3.3, 5.7, 2.1],\n",
       "        [5.7, 2.8, 4.1, 1.3],\n",
       "        [6. , 2.7, 5.1, 1.6],\n",
       "        [6.3, 3.3, 4.7, 1.6],\n",
       "        [6.1, 2.6, 5.6, 1.4],\n",
       "        [4.6, 3.6, 1. , 0.2],\n",
       "        [5.1, 3.8, 1.5, 0.3],\n",
       "        [6. , 2.9, 4.5, 1.5],\n",
       "        [6.3, 2.3, 4.4, 1.3],\n",
       "        [5.2, 2.7, 3.9, 1.4],\n",
       "        [5. , 3.5, 1.3, 0.3],\n",
       "        [5.4, 3.9, 1.7, 0.4],\n",
       "        [6.3, 2.5, 4.9, 1.5],\n",
       "        [5.2, 4.1, 1.5, 0.1],\n",
       "        [4.5, 2.3, 1.3, 0.3],\n",
       "        [5.9, 3. , 4.2, 1.5],\n",
       "        [5.4, 3.9, 1.3, 0.4],\n",
       "        [5.7, 2.9, 4.2, 1.3],\n",
       "        [5. , 3.4, 1.5, 0.2],\n",
       "        [7.2, 3. , 5.8, 1.6],\n",
       "        [6.9, 3.1, 5.4, 2.1],\n",
       "        [5.3, 3.7, 1.5, 0.2],\n",
       "        [4.6, 3.2, 1.4, 0.2],\n",
       "        [5.6, 2.9, 3.6, 1.3],\n",
       "        [6.3, 3.4, 5.6, 2.4],\n",
       "        [5.1, 3.5, 1.4, 0.3],\n",
       "        [6.3, 3.3, 6. , 2.5],\n",
       "        [6.4, 3.1, 5.5, 1.8],\n",
       "        [6.7, 2.5, 5.8, 1.8],\n",
       "        [5.1, 3.7, 1.5, 0.4],\n",
       "        [5.6, 2.5, 3.9, 1.1],\n",
       "        [6. , 3.4, 4.5, 1.6],\n",
       "        [5.5, 2.4, 3.8, 1.1],\n",
       "        [5. , 3.2, 1.2, 0.2],\n",
       "        [5.7, 2.8, 4.5, 1.3],\n",
       "        [5.5, 4.2, 1.4, 0.2],\n",
       "        [4.9, 3.6, 1.4, 0.1],\n",
       "        [6. , 2.2, 4. , 1. ],\n",
       "        [5.9, 3. , 5.1, 1.8],\n",
       "        [5.1, 2.5, 3. , 1.1],\n",
       "        [5.7, 2.6, 3.5, 1. ],\n",
       "        [6.5, 2.8, 4.6, 1.5],\n",
       "        [4.8, 3.4, 1.6, 0.2],\n",
       "        [6.1, 2.9, 4.7, 1.4],\n",
       "        [5.8, 2.8, 5.1, 2.4],\n",
       "        [4.8, 3. , 1.4, 0.1],\n",
       "        [4.9, 3.1, 1.5, 0.1],\n",
       "        [6.5, 3.2, 5.1, 2. ],\n",
       "        [4.6, 3.4, 1.4, 0.3],\n",
       "        [5.4, 3.4, 1.5, 0.4],\n",
       "        [6.1, 3. , 4.9, 1.8],\n",
       "        [7.3, 2.9, 6.3, 1.8],\n",
       "        [4.9, 2.5, 4.5, 1.7],\n",
       "        [5.4, 3.7, 1.5, 0.2],\n",
       "        [5.5, 2.4, 3.7, 1. ],\n",
       "        [5.5, 2.3, 4. , 1.3],\n",
       "        [6.5, 3. , 5.5, 1.8],\n",
       "        [5. , 3.5, 1.6, 0.6],\n",
       "        [5.4, 3. , 4.5, 1.5],\n",
       "        [6.4, 2.8, 5.6, 2.1],\n",
       "        [6.7, 3.3, 5.7, 2.5],\n",
       "        [5.6, 2.7, 4.2, 1.3],\n",
       "        [6.4, 3.2, 4.5, 1.5],\n",
       "        [5.8, 4. , 1.2, 0.2],\n",
       "        [6.2, 2.9, 4.3, 1.3],\n",
       "        [7. , 3.2, 4.7, 1.4],\n",
       "        [4.4, 2.9, 1.4, 0.2],\n",
       "        [5.2, 3.4, 1.4, 0.2],\n",
       "        [5.1, 3.8, 1.6, 0.2],\n",
       "        [4.8, 3.4, 1.9, 0.2],\n",
       "        [5.1, 3.4, 1.5, 0.2],\n",
       "        [5.1, 3.5, 1.4, 0.2],\n",
       "        [4.8, 3. , 1.4, 0.3],\n",
       "        [5. , 3.3, 1.4, 0.2],\n",
       "        [6.9, 3.2, 5.7, 2.3],\n",
       "        [6.8, 3.2, 5.9, 2.3],\n",
       "        [5. , 2. , 3.5, 1. ],\n",
       "        [5.1, 3.8, 1.9, 0.4],\n",
       "        [5. , 2.3, 3.3, 1. ],\n",
       "        [5.5, 2.6, 4.4, 1.2],\n",
       "        [6.5, 3. , 5.2, 2. ],\n",
       "        [6.2, 2.2, 4.5, 1.5],\n",
       "        [6. , 3. , 4.8, 1.8],\n",
       "        [5.6, 2.8, 4.9, 2. ],\n",
       "        [6.7, 3.1, 4.7, 1.5],\n",
       "        [6.4, 3.2, 5.3, 2.3],\n",
       "        [5.9, 3.2, 4.8, 1.8],\n",
       "        [4.4, 3.2, 1.3, 0.2],\n",
       "        [5.8, 2.7, 4.1, 1. ],\n",
       "        [5.7, 3. , 4.2, 1.2],\n",
       "        [7.1, 3. , 5.9, 2.1],\n",
       "        [5.5, 2.5, 4. , 1.3],\n",
       "        [4.9, 2.4, 3.3, 1. ],\n",
       "        [4.6, 3.1, 1.5, 0.2]]),\n",
       " array([[5.8, 2.7, 5.1, 1.9],\n",
       "        [5.2, 3.5, 1.5, 0.2],\n",
       "        [5.6, 3. , 4.5, 1.5],\n",
       "        [7.9, 3.8, 6.4, 2. ],\n",
       "        [4.4, 3. , 1.3, 0.2],\n",
       "        [6.4, 2.8, 5.6, 2.2],\n",
       "        [5.7, 2.5, 5. , 2. ],\n",
       "        [7.6, 3. , 6.6, 2.1],\n",
       "        [5.7, 3.8, 1.7, 0.3],\n",
       "        [5. , 3.4, 1.6, 0.4],\n",
       "        [5. , 3.6, 1.4, 0.2],\n",
       "        [6.3, 2.8, 5.1, 1.5],\n",
       "        [7.4, 2.8, 6.1, 1.9],\n",
       "        [5.6, 3. , 4.1, 1.3],\n",
       "        [5.4, 3.4, 1.7, 0.2],\n",
       "        [6.4, 2.9, 4.3, 1.3],\n",
       "        [6.5, 3. , 5.8, 2.2],\n",
       "        [4.9, 3. , 1.4, 0.2],\n",
       "        [6.8, 3. , 5.5, 2.1],\n",
       "        [7.7, 2.8, 6.7, 2. ],\n",
       "        [6.9, 3.1, 5.1, 2.3],\n",
       "        [7.2, 3.6, 6.1, 2.5],\n",
       "        [6.3, 2.7, 4.9, 1.8],\n",
       "        [5.8, 2.7, 5.1, 1.9],\n",
       "        [6.7, 3.1, 4.4, 1.4],\n",
       "        [6.2, 2.8, 4.8, 1.8],\n",
       "        [5. , 3. , 1.6, 0.2],\n",
       "        [6.1, 2.8, 4. , 1.3],\n",
       "        [7.7, 2.6, 6.9, 2.3],\n",
       "        [6.9, 3.1, 4.9, 1.5],\n",
       "        [6.1, 3. , 4.6, 1.4],\n",
       "        [5.8, 2.6, 4. , 1.2],\n",
       "        [6.3, 2.9, 5.6, 1.8],\n",
       "        [5.7, 4.4, 1.5, 0.4],\n",
       "        [6.1, 2.8, 4.7, 1.2],\n",
       "        [6.3, 2.5, 5. , 1.9],\n",
       "        [4.3, 3. , 1.1, 0.1],\n",
       "        [6.4, 2.7, 5.3, 1.9]]),\n",
       " array([0, 1, 2, 1, 2, 0, 1, 2, 0, 2, 2, 2, 1, 0, 0, 0, 1, 2, 2, 1, 1, 1,\n",
       "        2, 0, 0, 1, 1, 1, 0, 0, 1, 0, 0, 1, 0, 1, 0, 2, 2, 0, 0, 1, 2, 0,\n",
       "        2, 2, 2, 0, 1, 1, 1, 0, 1, 0, 0, 1, 2, 1, 1, 1, 0, 1, 2, 0, 0, 2,\n",
       "        0, 0, 2, 2, 2, 0, 1, 1, 2, 0, 1, 2, 2, 1, 1, 0, 1, 1, 0, 0, 0, 0,\n",
       "        0, 0, 0, 0, 2, 2, 1, 0, 1, 1, 2, 1, 2, 2, 1, 2, 1, 0, 1, 1, 2, 1,\n",
       "        1, 0]),\n",
       " array([2, 0, 1, 2, 0, 2, 2, 2, 0, 0, 0, 2, 2, 1, 0, 1, 2, 0, 2, 2, 2, 2,\n",
       "        2, 2, 1, 2, 0, 1, 2, 1, 1, 1, 2, 0, 1, 2, 0, 2])]"
      ]
     },
     "execution_count": 6,
     "metadata": {},
     "output_type": "execute_result"
    }
   ],
   "source": [
    "from sklearn.model_selection import train_test_split\n",
    "train_test_split(X, y)"
   ]
  },
  {
   "cell_type": "code",
   "execution_count": 7,
   "metadata": {
    "slideshow": {
     "slide_type": "fragment"
    }
   },
   "outputs": [
    {
     "name": "stdout",
     "output_type": "stream",
     "text": [
      "[0 0 0 1 1 2 0 0 0 1 2 2 1 1 2 0 2 2 1 1 2 0 2 1 2 2 0 0 2 0 2 1 1 2 2 1 0\n",
      " 0 0 0 0 1 0 0 0 1 2 2 0 1 1 1 1 2 0 1 1 1 1 1 2 1 2 2 2 2 2 1 0 2 0 0 1 2\n",
      " 1 1 1 2 1 1 2 0 0 1 2 2 1 2 0 0 1 1 2 0 0 0 1 2 0 0 2 2 1 0 0 2 1 2 1 1 0\n",
      " 1]\n"
     ]
    }
   ],
   "source": [
    "# split the data into training data (2/3) for x and for y and test data (1/3) for x and for y\n",
    "# training data is for the model to learn, test data to see if the model learned correctly\n",
    "x_train, x_test, y_train, y_test = train_test_split(X, y)\n",
    "print(y_train)"
   ]
  },
  {
   "cell_type": "code",
   "execution_count": 8,
   "metadata": {
    "slideshow": {
     "slide_type": "subslide"
    }
   },
   "outputs": [
    {
     "data": {
      "text/plain": [
       "LinearRegression(copy_X=True, fit_intercept=True, n_jobs=None, normalize=False)"
      ]
     },
     "execution_count": 8,
     "metadata": {},
     "output_type": "execute_result"
    }
   ],
   "source": [
    "# use the linear regression model\n",
    "from sklearn.linear_model import LinearRegression\n",
    "model = LinearRegression()\n",
    "model.fit(x_train, y_train)"
   ]
  },
  {
   "cell_type": "code",
   "execution_count": 9,
   "metadata": {
    "slideshow": {
     "slide_type": "fragment"
    }
   },
   "outputs": [
    {
     "data": {
      "text/plain": [
       "array([-0.0253445 , -0.00904165,  0.23086869,  1.33188145,  0.92557822,\n",
       "        1.7619792 , -0.16615669, -0.07342498, -0.14027902,  1.32161713,\n",
       "        1.87059856,  1.56213226,  1.51638417,  1.1791824 ,  1.57472906,\n",
       "       -0.05133265,  1.95490583,  1.58672107,  1.2119521 ,  1.53800993,\n",
       "        1.74260067, -0.01831958,  1.81700522,  1.23791456,  1.90451882,\n",
       "        1.74584043, -0.06283241, -0.14870338,  2.04201214, -0.16695134,\n",
       "        2.0077639 ,  0.85982113,  0.91114128,  1.64937689,  1.79068125,\n",
       "        1.06016005, -0.06593368, -0.02751272, -0.09724492, -0.07526512,\n",
       "        0.09614846,  1.13340844,  0.04900085, -0.003088  ,  0.00248379,\n",
       "        1.36936945,  1.97886416,  1.75953409, -0.02891215,  1.3031202 ,\n",
       "        1.04786574,  0.97352048,  1.26920003,  1.73340763, -0.17205674,\n",
       "        1.18162733,  1.18612803,  1.48745884,  1.29642363,  1.12284164,\n",
       "        1.98028928,  0.88580928,  1.957264  ,  1.63708248,  1.59805674,\n",
       "        1.92051927,  1.97779289,  1.26906163,  0.04499249,  1.85890894,\n",
       "       -0.06453424,  0.05100507,  1.07182398,  1.68963798,  1.15552655,\n",
       "        1.31774699,  1.15659781,  2.09412694,  0.99654568,  0.93185995,\n",
       "        1.54248504, -0.02814328, -0.03099576,  1.24524179,  2.06089058,\n",
       "        2.09025671,  1.14787116,  1.82328704, -0.02781511, -0.08602178,\n",
       "        1.19161502,  1.41497941,  1.46119407, -0.09628618,  0.08588406,\n",
       "       -0.00325217,  1.11894582,  1.72020604,  0.19384726, -0.06253002,\n",
       "        2.15200526,  2.1865303 ,  1.1344798 , -0.09661435, -0.0127477 ,\n",
       "        1.72374792,  1.34681073,  1.70634812,  1.30405315,  1.10898372,\n",
       "       -0.06206354,  1.22331354])"
      ]
     },
     "execution_count": 9,
     "metadata": {},
     "output_type": "execute_result"
    }
   ],
   "source": [
    "targets = model.predict(x_train)\n",
    "targets"
   ]
  },
  {
   "cell_type": "code",
   "execution_count": 10,
   "metadata": {
    "slideshow": {
     "slide_type": "subslide"
    }
   },
   "outputs": [
    {
     "data": {
      "text/plain": [
       "0.9279510246537832"
      ]
     },
     "execution_count": 10,
     "metadata": {},
     "output_type": "execute_result"
    }
   ],
   "source": [
    "model.score(x_train, y_train)"
   ]
  },
  {
   "cell_type": "code",
   "execution_count": 11,
   "metadata": {
    "slideshow": {
     "slide_type": "subslide"
    }
   },
   "outputs": [
    {
     "data": {
      "text/plain": [
       "0.9281486300431941"
      ]
     },
     "execution_count": 11,
     "metadata": {},
     "output_type": "execute_result"
    }
   ],
   "source": [
    "model.score(x_test, y_test)"
   ]
  },
  {
   "cell_type": "markdown",
   "metadata": {
    "slideshow": {
     "slide_type": "subslide"
    }
   },
   "source": [
    "## Evaluating a model\n",
    "\n",
    "* Models are supposed to be as accurate as possible\n",
    "  * `model.score`\n",
    "  * Read the [documentation](https://scikit-learn.org/stable/modules/generated/sklearn.linear_model.LinearRegression.html#sklearn.linear_model.LinearRegression.score)"
   ]
  },
  {
   "cell_type": "markdown",
   "metadata": {
    "slideshow": {
     "slide_type": "subslide"
    }
   },
   "source": [
    "* But not *too* accurate\n",
    "  * Overfitting"
   ]
  },
  {
   "cell_type": "markdown",
   "metadata": {
    "slideshow": {
     "slide_type": "subslide"
    }
   },
   "source": [
    "## The overfitting curve\n",
    "[Overfitting](https://en.wikipedia.org/wiki/Overfitting)  \n",
    "\n",
    "Curve shows number of training cycles on the x-axis and on y-axis how blue and red (training error, validation error) enlarges at a point. This point is where validation error has its global minimum. That is when we need to **stop** training the model with the training data.\n",
    "\n",
    "<img src=\"https://upload.wikimedia.org/wikipedia/commons/thumb/1/1f/Overfitting_svg.svg/1280px-Overfitting_svg.svg.png\" style=\"width:40%\"/>"
   ]
  },
  {
   "cell_type": "markdown",
   "metadata": {
    "slideshow": {
     "slide_type": "subslide"
    }
   },
   "source": [
    "## Exercise\n",
    "\n",
    "* Import `science.csv` to a pandas DataFrame\n",
    "* Split the input (X) and target (y) using `train_test_split`\n",
    "* Train the model on the training data\n",
    "* Score the model based on the testing data"
   ]
  },
  {
   "cell_type": "markdown",
   "metadata": {
    "slideshow": {
     "slide_type": "subslide"
    }
   },
   "source": [
    "## Self study: Other sklearn metrics\n",
    "\n",
    "The model uses *default* metrics. But there are numerous others.\n",
    "\n",
    "https://sklearn.org/modules/classes.html#module-sklearn.metrics\n",
    "\n",
    "Metrics usually depends on the type of your model (classification, regression, etc.)\n",
    "\n",
    "Read this article [here](https://towardsdatascience.com/understanding-data-science-classification-metrics-in-scikit-learn-in-python-3bc336865019)"
   ]
  },
  {
   "cell_type": "code",
   "execution_count": 12,
   "metadata": {
    "slideshow": {
     "slide_type": "subslide"
    }
   },
   "outputs": [
    {
     "data": {
      "text/plain": [
       "dict_keys(['explained_variance', 'r2', 'max_error', 'neg_median_absolute_error', 'neg_mean_absolute_error', 'neg_mean_squared_error', 'neg_mean_squared_log_error', 'neg_root_mean_squared_error', 'neg_mean_poisson_deviance', 'neg_mean_gamma_deviance', 'accuracy', 'roc_auc', 'roc_auc_ovr', 'roc_auc_ovo', 'roc_auc_ovr_weighted', 'roc_auc_ovo_weighted', 'balanced_accuracy', 'average_precision', 'neg_log_loss', 'neg_brier_score', 'adjusted_rand_score', 'homogeneity_score', 'completeness_score', 'v_measure_score', 'mutual_info_score', 'adjusted_mutual_info_score', 'normalized_mutual_info_score', 'fowlkes_mallows_score', 'precision', 'precision_macro', 'precision_micro', 'precision_samples', 'precision_weighted', 'recall', 'recall_macro', 'recall_micro', 'recall_samples', 'recall_weighted', 'f1', 'f1_macro', 'f1_micro', 'f1_samples', 'f1_weighted', 'jaccard', 'jaccard_macro', 'jaccard_micro', 'jaccard_samples', 'jaccard_weighted'])"
      ]
     },
     "execution_count": 12,
     "metadata": {},
     "output_type": "execute_result"
    }
   ],
   "source": [
    "import sklearn\n",
    "sklearn.metrics.SCORERS.keys()"
   ]
  }
 ],
 "metadata": {
  "celltoolbar": "Slideshow",
  "kernelspec": {
   "display_name": "Python 3",
   "language": "python",
   "name": "python3"
  },
  "language_info": {
   "codemirror_mode": {
    "name": "ipython",
    "version": 3
   },
   "file_extension": ".py",
   "mimetype": "text/x-python",
   "name": "python",
   "nbconvert_exporter": "python",
   "pygments_lexer": "ipython3",
   "version": "3.7.6"
  },
  "varInspector": {
   "cols": {
    "lenName": 16,
    "lenType": 16,
    "lenVar": 40
   },
   "kernels_config": {
    "python": {
     "delete_cmd_postfix": "",
     "delete_cmd_prefix": "del ",
     "library": "var_list.py",
     "varRefreshCmd": "print(var_dic_list())"
    },
    "r": {
     "delete_cmd_postfix": ") ",
     "delete_cmd_prefix": "rm(",
     "library": "var_list.r",
     "varRefreshCmd": "cat(var_dic_list()) "
    }
   },
   "types_to_exclude": [
    "module",
    "function",
    "builtin_function_or_method",
    "instance",
    "_Feature"
   ],
   "window_display": false
  }
 },
 "nbformat": 4,
 "nbformat_minor": 2
}
