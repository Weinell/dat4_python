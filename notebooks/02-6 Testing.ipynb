{
 "cells": [
  {
   "cell_type": "markdown",
   "metadata": {},
   "source": [
    "## Testing using the pytest framework\n",
    "`pip install pytest`  \n",
    "[Documentation]( https://realpython.com/pytest-python-testing/)\n",
    "1. create a directory called test\n",
    "2. make it a module `test/__init__.py`\n",
    "3. create a test file for each submodule test/test_zeros.py\n",
    "4. run all tests with cli command: `pytest` or a single file with `pytest <filename>` or only tests marked with: `@pytest.mark.<markname>` by running `pytest -m <markname>`\n",
    "\n",
    "### Parameterized tests\n",
    "This feature enables us to execute a single test method multiple times with different parameters.\n"
   ]
  },
  {
   "cell_type": "code",
   "execution_count": 1,
   "metadata": {},
   "outputs": [],
   "source": [
    "# content of test_demo/test_demo.py\n",
    "import pytest\n",
    "\n",
    "@pytest.mark.parametrize(\"test_input,expected\", [(\"3+5\", 8), (\"2+4\", 6), (\"6*9\", 54)])\n",
    "def test_eval(test_input, expected):\n",
    "    assert eval(test_input) == expected"
   ]
  },
  {
   "cell_type": "code",
   "execution_count": 2,
   "metadata": {},
   "outputs": [
    {
     "name": "stdout",
     "output_type": "stream",
     "text": [
      "\u001b[1m============================= test session starts ==============================\u001b[0m\n",
      "platform linux -- Python 3.7.6, pytest-6.2.5, py-1.11.0, pluggy-1.0.0\n",
      "rootdir: /home/jovyan\n",
      "collected 3 items                                                              \u001b[0m\n",
      "\n",
      "modules/test_demo/test_demo.py \u001b[32m.\u001b[0m\u001b[32m.\u001b[0m\u001b[32m.\u001b[0m\u001b[32m                                       [100%]\u001b[0m\n",
      "\n",
      "\u001b[32m============================== \u001b[32m\u001b[1m3 passed\u001b[0m\u001b[32m in 0.08s\u001b[0m\u001b[32m ===============================\u001b[0m\n"
     ]
    }
   ],
   "source": [
    "!pytest ./modules/test_demo"
   ]
  },
  {
   "cell_type": "code",
   "execution_count": null,
   "metadata": {},
   "outputs": [],
   "source": []
  }
 ],
 "metadata": {
  "kernelspec": {
   "display_name": "Python 3",
   "language": "python",
   "name": "python3"
  },
  "language_info": {
   "codemirror_mode": {
    "name": "ipython",
    "version": 3
   },
   "file_extension": ".py",
   "mimetype": "text/x-python",
   "name": "python",
   "nbconvert_exporter": "python",
   "pygments_lexer": "ipython3",
   "version": "3.7.6"
  }
 },
 "nbformat": 4,
 "nbformat_minor": 4
}
