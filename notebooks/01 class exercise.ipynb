{
 "cells": [
  {
   "cell_type": "markdown",
   "id": "d2a652e0-3a36-49aa-93b0-6b52652f9f05",
   "metadata": {},
   "source": [
    "# Class Exercise 1:"
   ]
  },
  {
   "cell_type": "markdown",
   "id": "6af12c57-0425-4ea3-81bd-0c9a1f6cf3ce",
   "metadata": {},
   "source": [
    "![](https://miro.medium.com/max/1266/1*Pb8oEA1nGIONsSJk7QSVzg.png)"
   ]
  },
  {
   "cell_type": "code",
   "execution_count": null,
   "id": "f8d271d0-ba2d-417b-a7d9-a5249a8e346f",
   "metadata": {},
   "outputs": [
    {
     "name": "stdin",
     "output_type": "stream",
     "text": [
      "Number 1: 4\n",
      "Number 2: g\n"
     ]
    },
    {
     "name": "stdout",
     "output_type": "stream",
     "text": [
      "It seems like you did not insert a valid number. Try again.\n"
     ]
    }
   ],
   "source": [
    "def multiplier():\n",
    "    try:\n",
    "        no1 = int(input(\"Number 1:\"))\n",
    "        no2 = int(input(\"Number 2:\"))\n",
    "        result = no1 * no2\n",
    "        print(\"Result is: \" + str(result))\n",
    "    except Exception as e:\n",
    "        print(\"It seems like you did not insert a valid number. Try again.\")\n",
    "        multiplier()\n",
    "        \n",
    "multiplier()"
   ]
  }
 ],
 "metadata": {
  "kernelspec": {
   "display_name": "Python 3 (ipykernel)",
   "language": "python",
   "name": "python3"
  },
  "language_info": {
   "codemirror_mode": {
    "name": "ipython",
    "version": 3
   },
   "file_extension": ".py",
   "mimetype": "text/x-python",
   "name": "python",
   "nbconvert_exporter": "python",
   "pygments_lexer": "ipython3",
   "version": "3.10.5"
  }
 },
 "nbformat": 4,
 "nbformat_minor": 5
}
