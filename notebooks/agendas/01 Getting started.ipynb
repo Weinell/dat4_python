{
 "cells": [
  {
   "cell_type": "markdown",
   "metadata": {},
   "source": [
    "# Agenda week 1\n",
    "1. Setup with docker notebooks working for everyone\n",
    "  - How it works\n",
    "  - VS Code\n",
    "  - Inside the container, logs\n",
    "2. Intro to the semester\n",
    "  - Time schedule\n",
    "  - Use of slack\n",
    "3. Books and course materials\n",
    "4. Create groups\n",
    "  - [Group sheet](https://docs.google.com/spreadsheets/d/1YyGUA-Vx7YR8n2eJhy_ZNJLyKGD-pnCw2scd4sPNmn4/edit?usp=sharing)\n",
    "5. How to prepare for each week\n",
    "  - Prepare presentation of the previous weeks hand-in\n",
    "  - Read notebooks before class\n",
    "  - Prepare questions\n",
    "6. Studypoints, final project and exam\n",
    "7. Python language features\n",
    "8. Lists and Dictionaries."
   ]
  }
 ],
 "metadata": {
  "kernelspec": {
   "display_name": "Python 3",
   "language": "python",
   "name": "python3"
  },
  "language_info": {
   "codemirror_mode": {
    "name": "ipython",
    "version": 3
   },
   "file_extension": ".py",
   "mimetype": "text/x-python",
   "name": "python",
   "nbconvert_exporter": "python",
   "pygments_lexer": "ipython3",
   "version": "3.7.6"
  }
 },
 "nbformat": 4,
 "nbformat_minor": 4
}
